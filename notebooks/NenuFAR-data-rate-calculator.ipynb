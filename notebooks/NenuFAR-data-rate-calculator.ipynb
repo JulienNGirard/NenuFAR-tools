{
 "cells": [
  {
   "cell_type": "code",
   "execution_count": null,
   "metadata": {},
   "outputs": [],
   "source": []
  },
  {
   "cell_type": "code",
   "execution_count": 85,
   "metadata": {},
   "outputs": [],
   "source": [
    "from __future__ import print_function\n",
    "from ipywidgets import interact, interactive, fixed, interact_manual\n",
    "import ipywidgets as widgets\n",
    "\n",
    "def KMGT_Bytes(B):\n",
    "#-----------------------------------------------------------\n",
    "# B = data volume or rate in Bytes\n",
    "# XB = data volume or rate in K/M/G/TBytes\n",
    "# Unit = KB, MB, GB, TB\n",
    "\n",
    "    Unit='B' ; XB=B\n",
    "    k=1024.\n",
    "\n",
    "    if B >= k and B < k**2:\n",
    "        XB=B/k ; Unit='KB'\n",
    "\n",
    "    if B >= k**2 and B < k**3:\n",
    "        XB=B/k**2 ; Unit='MB'\n",
    "\n",
    "    if B >= k**3 and B < k**4:\n",
    "        XB=B/k**3 ; Unit='GB'\n",
    "\n",
    "    if B >= k**4:\n",
    "        XB=B/k**4 ; Unit='TB'\n",
    "\n",
    "    return XB,Unit\n",
    "\n",
    "def data_rate_vol(Nma=96,Nch=64,dt=1,Df=75,Tobs=3600,mode=\"BF\",Sum=False):\n",
    "    \"\"\"\n",
    "    IDL original version v1, PZ, 20190319\n",
    "    PYTHON transcript v1, JG, 20200509\n",
    "\n",
    "    Computes and displays NenuFAR data rates and volumes\n",
    "\n",
    "    INPUTS\n",
    "    Nma  = number of Mini-Arrays involved\n",
    "    Nch  = number of channels / 195.3125 kHz subband\n",
    "    dt   = integration time of spectra / of visibility sets (sec)\n",
    "    Df   = total bandwidth (MHz)\n",
    "    Tobs = total observation time (sec)\n",
    "\n",
    "    KEYWORDS\n",
    "    mode = \"BF\"  => Beamformer mode\t(uses Nch, dt, Df)\n",
    "           \"IM\"  => Imager mode\t\t(uses Nma, Nch, dt, Df)\n",
    "           \"WF\"  => Waveform mode\t(uses Nma)\n",
    "    Sum  = 1 line SUMMARY\n",
    "    \n",
    "    \"\"\"\n",
    "    \n",
    "    parser = OptionParser('usage from bash : %prog [options] arg1 arg2 \\n usage from python: import data_rate_vol \\n data_rate_vol(Nma=96,Nch=64,dt=1,Df=75,Tobs=3600,mode=\"BF\",Sum=False)')\n",
    "    #parser.add_option(\"-h\",\"--help\", help=\"display help and exit\")\n",
    "    \n",
    "    \n",
    "    parser.add_option(\"-M\",\"--Nma\",dest=\"Nma\",help=\"number of Mini-Arrays involved (default=96)\")\n",
    "    parser.add_option(\"-c\",\"--Nch\",dest=\"Nch\",help=\"Number of channels / 195.3125 kHz subband (default=64)\")\n",
    "    parser.add_option(\"-t\",\"--dt\",dest=\"dt\",help=\"integration time of spectra / of visibility sets (default=1)\")\n",
    "    parser.add_option(\"-F\",\"--Df\",dest=\"Df\",help=\"total bandwidth (MHz) (default=75)\")\n",
    "    parser.add_option(\"-T\",\"--Tobs\",dest=\"Tobs\",help=\"total observation time (sec) (default=3600s)\")\n",
    "\n",
    "    parser.add_option(\"-m\",\"--mode\",dest=\"mode\",metavar=\"MODE\",default=\"BF\",help=\"BF => Beamformer mode\t(uses Nch, dt, Df)\"\n",
    "                                                                                  \"IM => Imager mode\t\t(uses Nma, Nch, dt, Df)\"\n",
    "                                                                                  \"WF => Waveform mode\t(uses Nma)\")\n",
    "    parser.add_option(\"-s\",\"--Sum\",dest=\"Sum\",default=False,help=\"Print 1-line summary\")\n",
    "\n",
    "\n",
    "    (options, args) = parser.parse_args()\n",
    "        \n",
    "\n",
    "    Nsb=min(round(Df/0.1953125),768)\n",
    "\n",
    "    D_bf_sb=4.*4.*Nch/dt ;  D_bf=D_bf_sb*Nsb ; D_bf_n = D_bf/2 #2 UnDySPuTeD nodes \n",
    "    D_im_sb = 8.*4.*Nch*(Nma*(Nma-1)*1./2+Nma)/dt ; D_im = D_im_sb*Nsb ; D_im_n = D_im/4 #4 correlator nodes\n",
    "    D_wf_sb = 0. ; D_wf = 2.*2.*2e8*Nma ; D_wf_n = D_wf; #1 Waveform node NB0\n",
    "    \n",
    "    if mode == \"BF\":\n",
    "        D_sb=D_bf_sb ; D_tot=D_bf ; D_n=D_bf_n ; IM=0 ; WF=0\n",
    "    elif mode == \"IM\":\n",
    "        D_sb=D_im_sb ; D_tot=D_im ; D_n=D_im_n ; WF=0\n",
    "    elif mode == \"WF\":\n",
    "        D_sb=D_wf_sb ; D_tot=D_wf ; D_n=D_wf_n\n",
    "    elif mode == None:\n",
    "        print(\"Choose a mode=BF or IM or WF\")\n",
    "\n",
    "    # data rates / sec : /sb, total, /node\n",
    "\n",
    "    XD_sb,U_sb=KMGT_Bytes(D_sb)\n",
    "    if not(Sum) and mode!=\"WF\":\n",
    "        print(\"Rate=  \"+\"%8.1f %s/s/SB\"%(XD_sb,U_sb)) #,format='(\",f8.1,2x,a2,\"/s/SB\")'\n",
    "\n",
    "    XD_tot, U_tot=KMGT_Bytes(D_tot) \n",
    "    if not(Sum):\n",
    "        print(\"Rate=  \"+\"%8.1f %s/s\"%(XD_tot,U_tot)) #,format='(\"Rate=  \",f8.1,2x,a2,\"/s\")'\n",
    "\n",
    "    XD_n, U_n=KMGT_Bytes(D_n)\n",
    "    if not(Sum):\n",
    "        print(\"Rate=  \"+\"%8.1f %s/s/node\"%(XD_n,U_n)) #,format='(\"Rate=  \",f8.1,2x,a2,\"/s/node\")\n",
    "        \n",
    "        \n",
    "    # data volumes total for Tobs\n",
    "\n",
    "    V_tot = D_tot*Tobs\n",
    "    XV_tot, UV_tot=KMGT_bytes(V_tot)\n",
    "    if not(Sum):\n",
    "        print(\"Volume= \",'%8.1f  %s'%(XV_tot,UV_tot),\"in \",'%7.0f sec'%Tobs)\n",
    "\n",
    "    if Sum:\n",
    "        print(\"%d MA %d ch/SB %7.3f sec %5.1f MHz %6.0f sec :\\n Rate = %6.1f %s /s/SB %6.1f %s /s %6.1f %s /s/node :\\n Volume = %6.1f %s)\"%(Nma,Nch,dt,Df,Tobs, XD_sb,U_sb,XD_tot,U_tot,XD_n,U_n,XV_tot,UV_tot))\n",
    "  #format='(i3,\" MA \",i3,\" ch/SB \",f7.3,\" sec \",f5.1,\" MHz \",f6.0,\" sec : Rate =\",f6.1,1x,a2,\"/s/SB \",f6.1,1x,a2,\"/s \",f6.1,1x,a2,\"/s/node : Volume =\",f6.1,1x,a2)'"
   ]
  },
  {
   "cell_type": "code",
   "execution_count": 92,
   "metadata": {},
   "outputs": [
    {
     "data": {
      "application/vnd.jupyter.widget-view+json": {
       "model_id": "edcfba00d86d422bab4d4c8a0302d416",
       "version_major": 2,
       "version_minor": 0
      },
      "text/plain": [
       "aW50ZXJhY3RpdmUoY2hpbGRyZW49KEludFNsaWRlcih2YWx1ZT05NiwgZGVzY3JpcHRpb249dSdOdW1iZXIgb2YgbWluaS1hcnJheScsIG1heD05Niwgc3R5bGU9U2xpZGVyU3R5bGUoZGVzY3LigKY=\n"
      ]
     },
     "metadata": {},
     "output_type": "display_data"
    },
    {
     "data": {
      "text/plain": [
       "<function __main__.data_vol>"
      ]
     },
     "execution_count": 92,
     "metadata": {},
     "output_type": "execute_result"
    }
   ],
   "source": [
    "style = {'description_width': 'initial'}\n",
    "\n",
    "interact(data_vol,Nma=widgets.IntSlider(description=\"Number of mini-array\",min=0,max=96,step=1,value=96,style=style),\n",
    "         Nch=widgets.IntSlider(description=\"Number of channels\",min=1,max=64,step=1,value=64,style=style), \n",
    "         dt=widgets.IntSlider(description=\"Time integration (s)\",min=1,max=60,step=1,value=1,style=style),\n",
    "        Df=widgets.FloatSlider(description=\"Observation band (MHz)\",min=1.,max=75.,step=0.1953125,value=75,style=style),\n",
    "         Tobs=widgets.IntSlider(description=\"Time of observation (s)\",min=1,max=36000,step=1,value=3600,style=style),\n",
    "        mode=[('Imaging', \"IM\"), ('Beamformer', \"BF\"),('Waveform', \"WF\")])"
   ]
  },
  {
   "cell_type": "code",
   "execution_count": null,
   "metadata": {},
   "outputs": [],
   "source": []
  }
 ],
 "metadata": {
  "kernelspec": {
   "display_name": "Python 2",
   "language": "python",
   "name": "python2"
  },
  "language_info": {
   "codemirror_mode": {
    "name": "ipython",
    "version": 2
   },
   "file_extension": ".py",
   "mimetype": "text/x-python",
   "name": "python",
   "nbconvert_exporter": "python",
   "pygments_lexer": "ipython2",
   "version": "2.7.15"
  }
 },
 "nbformat": 4,
 "nbformat_minor": 2
}
