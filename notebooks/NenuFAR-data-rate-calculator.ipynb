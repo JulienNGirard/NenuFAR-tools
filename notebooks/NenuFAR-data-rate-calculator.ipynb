{
 "cells": [
  {
   "cell_type": "markdown",
   "metadata": {},
   "source": [
    "### NenuFAR Data Rate Calculator\n",
    "\n",
    "You are in an interactive python notebook. \n",
    "- 1) Press the fast-forward button to execute the code\n",
    "- 2) use the interactive knobs to compute the data rate.\n",
    "\n"
   ]
  },
  {
   "cell_type": "code",
   "execution_count": 12,
   "metadata": {},
   "outputs": [],
   "source": [
    "from IPython.display import HTML"
   ]
  },
  {
   "cell_type": "code",
   "execution_count": 13,
   "metadata": {},
   "outputs": [],
   "source": [
    "HTML('''<script>\n",
    "code_show=true; \n",
    "function code_toggle() {\n",
    " if (code_show){\n",
    " $('div.input').hide();\n",
    " } else {\n",
    " $('div.input').show();\n",
    " }\n",
    " code_show = !code_show\n",
    "} \n",
    "$( document ).ready(code_toggle);\n",
    "</script>\n",
    "The raw code for this IPython notebook is by default hidden for easier reading.\n",
    "To toggle on/off the raw code, click <a href=\"javascript:code_toggle()\">here</a>.''')\n",
    "\n",
    "from __future__ import print_function\n",
    "from ipywidgets import interact, interactive, fixed, interact_manual\n",
    "import ipywidgets as widgets\n",
    "\n",
    "def KMGT_Bytes(B):\n",
    "#-----------------------------------------------------------\n",
    "# B = data volume or rate in Bytes\n",
    "# XB = data volume or rate in K/M/G/TBytes\n",
    "# Unit = KB, MB, GB, TB\n",
    "\n",
    "    Unit='B' ; XB=B\n",
    "    k=1024.\n",
    "\n",
    "    if B >= k and B < k**2:\n",
    "        XB=B/k ; Unit='KB'\n",
    "\n",
    "    if B >= k**2 and B < k**3:\n",
    "        XB=B/k**2 ; Unit='MB'\n",
    "\n",
    "    if B >= k**3 and B < k**4:\n",
    "        XB=B/k**3 ; Unit='GB'\n",
    "\n",
    "    if B >= k**4:\n",
    "        XB=B/k**4 ; Unit='TB'\n",
    "\n",
    "    return XB,Unit\n",
    "\n",
    "def data_rate_vol(Nma=96,Nch=64,dt=1,Df=75,Tobs=3600,mode=\"BF\",Sum=False):\n",
    "    \"\"\"\n",
    "    IDL original version v1, PZ, 20190319\n",
    "    PYTHON transcript v1, JG, 20200509\n",
    "\n",
    "    Computes and displays NenuFAR data rates and volumes\n",
    "\n",
    "    INPUTS\n",
    "    Nma  = number of Mini-Arrays involved\n",
    "    Nch  = number of channels / 195.3125 kHz subband\n",
    "    dt   = integration time of spectra / of visibility sets (sec)\n",
    "    Df   = total bandwidth (MHz)\n",
    "    Tobs = total observation time (sec)\n",
    "\n",
    "    KEYWORDS\n",
    "    mode = \"BF\"  => Beamformer mode\t(uses Nch, dt, Df)\n",
    "           \"IM\"  => Imager mode\t\t(uses Nma, Nch, dt, Df)\n",
    "           \"WF\"  => Waveform mode\t(uses Nma)\n",
    "    Sum  = 1 line SUMMARY\n",
    "    \n",
    "    \"\"\"\n",
    "    \n",
    "    Nsb=min(round(Df/0.1953125),768)\n",
    "\n",
    "    D_bf_sb=4.*4.*Nch/dt ;  D_bf=D_bf_sb*Nsb ; D_bf_n = D_bf/2 #2 UnDySPuTeD nodes \n",
    "    D_im_sb = 8.*4.*Nch*(Nma*(Nma-1)*1./2+Nma)/dt ; D_im = D_im_sb*Nsb ; D_im_n = D_im/4 #4 correlator nodes\n",
    "    D_wf_sb = 0. ; D_wf = 2.*2.*2e8*Nma ; D_wf_n = D_wf; #1 Waveform node NB0\n",
    "    \n",
    "    if mode == \"BF\":\n",
    "        D_sb=D_bf_sb ; D_tot=D_bf ; D_n=D_bf_n ; IM=0 ; WF=0\n",
    "    elif mode == \"IM\":\n",
    "        D_sb=D_im_sb ; D_tot=D_im ; D_n=D_im_n ; WF=0\n",
    "    elif mode == \"WF\":\n",
    "        D_sb=D_wf_sb ; D_tot=D_wf ; D_n=D_wf_n\n",
    "    elif mode == None:\n",
    "        print(\"Choose a mode=BF or IM or WF\")\n",
    "\n",
    "    # data rates / sec : /sb, total, /node\n",
    "\n",
    "    XD_sb,U_sb=KMGT_Bytes(D_sb)\n",
    "    if not(Sum) and mode!=\"WF\":\n",
    "        print(\"Rate=  \"+\"%8.1f %s/s/SB\"%(XD_sb,U_sb)) #,format='(\",f8.1,2x,a2,\"/s/SB\")'\n",
    "\n",
    "    XD_tot, U_tot=KMGT_Bytes(D_tot) \n",
    "    if not(Sum):\n",
    "        print(\"Rate=  \"+\"%8.1f %s/s\"%(XD_tot,U_tot)) #,format='(\"Rate=  \",f8.1,2x,a2,\"/s\")'\n",
    "\n",
    "    XD_n, U_n=KMGT_Bytes(D_n)\n",
    "    if not(Sum):\n",
    "        print(\"Rate=  \"+\"%8.1f %s/s/node\"%(XD_n,U_n)) #,format='(\"Rate=  \",f8.1,2x,a2,\"/s/node\")\n",
    "        \n",
    "        \n",
    "    # data volumes total for Tobs\n",
    "\n",
    "    V_tot = D_tot*Tobs\n",
    "    XV_tot, UV_tot=KMGT_Bytes(V_tot)\n",
    "    if not(Sum):\n",
    "        print(\"Volume= \",'%8.1f  %s'%(XV_tot,UV_tot),\"in \",'%7.0f sec'%Tobs)\n",
    "\n",
    "    if Sum:\n",
    "        print(\"%d MA %d ch/SB %7.3f sec %5.1f MHz %6.0f sec :\\n Rate = %6.1f %s /s/SB %6.1f %s /s %6.1f %s /s/node :\\n Volume = %6.1f %s)\"%(Nma,Nch,dt,Df,Tobs, XD_sb,U_sb,XD_tot,U_tot,XD_n,U_n,XV_tot,UV_tot))\n",
    "  #format='(i3,\" MA \",i3,\" ch/SB \",f7.3,\" sec \",f5.1,\" MHz \",f6.0,\" sec : Rate =\",f6.1,1x,a2,\"/s/SB \",f6.1,1x,a2,\"/s \",f6.1,1x,a2,\"/s/node : Volume =\",f6.1,1x,a2)'"
   ]
  },
  {
   "cell_type": "code",
   "execution_count": 14,
   "metadata": {},
   "outputs": [
    {
     "data": {
      "application/vnd.jupyter.widget-view+json": {
       "model_id": "ac4ea6120d764fa4beac583f5b5c9b11",
       "version_major": 2,
       "version_minor": 0
      },
      "text/plain": [
       "aW50ZXJhY3RpdmUoY2hpbGRyZW49KEludFNsaWRlcih2YWx1ZT05NiwgZGVzY3JpcHRpb249dSdOdW1iZXIgb2YgbWluaS1hcnJheScsIG1heD05Niwgc3R5bGU9U2xpZGVyU3R5bGUoZGVzY3LigKY=\n"
      ]
     },
     "metadata": {},
     "output_type": "display_data"
    },
    {
     "data": {
      "text/plain": [
       "<function __main__.data_rate_vol>"
      ]
     },
     "execution_count": 14,
     "metadata": {},
     "output_type": "execute_result"
    }
   ],
   "source": [
    "style = {'description_width': 'initial'}\n",
    "\n",
    "interact(data_rate_vol,Nma=widgets.IntSlider(description=\"Number of mini-array\",min=0,max=96,step=1,value=96,style=style),\n",
    "         Nch=widgets.IntSlider(description=\"Number of channels\",min=1,max=64,step=1,value=64,style=style), \n",
    "         dt=widgets.IntSlider(description=\"Time integration (s)\",min=1,max=60,step=1,value=1,style=style),\n",
    "        Df=widgets.FloatSlider(description=\"Observation band (MHz)\",min=1.,max=75.,step=0.1953125,value=75,style=style),\n",
    "         Tobs=widgets.IntSlider(description=\"Time of observation (s)\",min=1,max=36000,step=1,value=3600,style=style),\n",
    "        mode=[('Imaging', \"IM\"), ('Beamformer', \"BF\"),('Waveform', \"WF\")])"
   ]
  },
  {
   "cell_type": "code",
   "execution_count": null,
   "metadata": {},
   "outputs": [],
   "source": []
  }
 ],
 "metadata": {
  "kernelspec": {
   "display_name": "Python 2",
   "language": "python",
   "name": "python2"
  },
  "language_info": {
   "codemirror_mode": {
    "name": "ipython",
    "version": 2
   },
   "file_extension": ".py",
   "mimetype": "text/x-python",
   "name": "python",
   "nbconvert_exporter": "python",
   "pygments_lexer": "ipython2",
   "version": "2.7.15"
  },
  "widgets": {
   "application/vnd.jupyter.widget-state+json": {
    "state": {
     "0115db9ebd374070b6661c1789f54877": {
      "model_module": "@jupyter-widgets/base",
      "model_module_version": "1.1.0",
      "model_name": "LayoutModel",
      "state": {}
     },
     "0d9b7ed3b3524f9290544d7d7493dbef": {
      "model_module": "@jupyter-widgets/base",
      "model_module_version": "1.1.0",
      "model_name": "LayoutModel",
      "state": {}
     },
     "0dbc0e1e524e4f69a0368bfaa6e66de1": {
      "model_module": "@jupyter-widgets/controls",
      "model_module_version": "1.4.0",
      "model_name": "FloatSliderModel",
      "state": {
       "description": "Observation band (MHz)",
       "layout": "IPY_MODEL_da05a1c1e6f34c5d849dd696d32a58af",
       "max": 75,
       "min": 1,
       "step": 0.1953125,
       "style": "IPY_MODEL_da1de42c9b304f318adc6389c136649f",
       "value": 75
      }
     },
     "0e5becc04e4142aea6054e2686156e81": {
      "model_module": "@jupyter-widgets/controls",
      "model_module_version": "1.4.0",
      "model_name": "SliderStyleModel",
      "state": {
       "description_width": "initial"
      }
     },
     "0e828543331f4ac08c715b01bb3d8da4": {
      "model_module": "@jupyter-widgets/base",
      "model_module_version": "1.1.0",
      "model_name": "LayoutModel",
      "state": {}
     },
     "153f81e9c7734fdb94e1466af7ca788e": {
      "model_module": "@jupyter-widgets/controls",
      "model_module_version": "1.4.0",
      "model_name": "VBoxModel",
      "state": {
       "_dom_classes": [
        "widget-interact"
       ],
       "children": [
        "IPY_MODEL_9330101ea64f4464b9a13d0c0de7686a",
        "IPY_MODEL_ec7eaa5c895346a5a8f115174666325d",
        "IPY_MODEL_fdc33a1162ed48e283923a453a418372",
        "IPY_MODEL_77fa813325bf47899cd850792b064859",
        "IPY_MODEL_65b0bdd75e064e7ca3ac1aa016f0251a",
        "IPY_MODEL_299d3e9cc4774dafa03c818751098689",
        "IPY_MODEL_8deb21f71fcb4a5aba97dd62a5b0359a",
        "IPY_MODEL_e6de9707717047879b054d0698d4feb7"
       ],
       "layout": "IPY_MODEL_7b012ff6bffa47f5938484b6ef10410c"
      }
     },
     "15df3116670f40a1abeb5f20f7ac54c5": {
      "model_module": "@jupyter-widgets/controls",
      "model_module_version": "1.4.0",
      "model_name": "DescriptionStyleModel",
      "state": {
       "description_width": ""
      }
     },
     "1a30db8c9cc041daab1a506ba36a64b3": {
      "model_module": "@jupyter-widgets/base",
      "model_module_version": "1.1.0",
      "model_name": "LayoutModel",
      "state": {}
     },
     "1ebec3ce0df34bfb89793e9df192fb54": {
      "model_module": "@jupyter-widgets/controls",
      "model_module_version": "1.4.0",
      "model_name": "SliderStyleModel",
      "state": {
       "description_width": "initial"
      }
     },
     "21bad10ff5184ae7a41645ed7303851a": {
      "model_module": "@jupyter-widgets/controls",
      "model_module_version": "1.4.0",
      "model_name": "SliderStyleModel",
      "state": {
       "description_width": "initial"
      }
     },
     "24bca9d8307645d19c9e8112a2ff0e0a": {
      "model_module": "@jupyter-widgets/output",
      "model_module_version": "1.0.0",
      "model_name": "OutputModel",
      "state": {
       "layout": "IPY_MODEL_f2627e1dd8e4449e8e39de0be8285b7d",
       "outputs": [
        {
         "name": "stdout",
         "output_type": "stream",
         "text": "Rate=       1.0 KB/s/SB\nRate=     384.0 KB/s\nRate=     192.0 KB/s/node\nVolume=       1.3  GB in     3600 sec\n"
        }
       ]
      }
     },
     "299d3e9cc4774dafa03c818751098689": {
      "model_module": "@jupyter-widgets/controls",
      "model_module_version": "1.4.0",
      "model_name": "DropdownModel",
      "state": {
       "_options_labels": [
        "Imaging",
        "Beamformer",
        "Waveform"
       ],
       "description": "mode",
       "index": 1,
       "layout": "IPY_MODEL_6ebf6dfe72f34d31a2c4a27626cc3574",
       "style": "IPY_MODEL_82daaf7e514c4fccaf624b787c1d42aa"
      }
     },
     "29ba66f0b9644d949ab05c7a33e66d18": {
      "model_module": "@jupyter-widgets/controls",
      "model_module_version": "1.4.0",
      "model_name": "CheckboxModel",
      "state": {
       "description": "Sum",
       "disabled": false,
       "layout": "IPY_MODEL_8ace5ad34aa64e9b8ec91aeb60b890b2",
       "style": "IPY_MODEL_a7b25e1102d24a27a3303646222e3d92",
       "value": false
      }
     },
     "2dffedd4af07499fb34caa589eb4b915": {
      "model_module": "@jupyter-widgets/base",
      "model_module_version": "1.1.0",
      "model_name": "LayoutModel",
      "state": {}
     },
     "30db19c2c2704745accf95971217c827": {
      "model_module": "@jupyter-widgets/controls",
      "model_module_version": "1.4.0",
      "model_name": "IntSliderModel",
      "state": {
       "description": "Time integration (s)",
       "layout": "IPY_MODEL_2dffedd4af07499fb34caa589eb4b915",
       "max": 60,
       "min": 1,
       "style": "IPY_MODEL_4900593154ec46289ce92fa422a87075",
       "value": 1
      }
     },
     "350e2d416fc243518639564462f56c0e": {
      "model_module": "@jupyter-widgets/base",
      "model_module_version": "1.1.0",
      "model_name": "LayoutModel",
      "state": {}
     },
     "39b90e04465c497c8c45e1bb16f3f7a7": {
      "model_module": "@jupyter-widgets/base",
      "model_module_version": "1.1.0",
      "model_name": "LayoutModel",
      "state": {}
     },
     "3e9f3322b3334a38bd8b76caf4693d26": {
      "model_module": "@jupyter-widgets/base",
      "model_module_version": "1.1.0",
      "model_name": "LayoutModel",
      "state": {}
     },
     "45a680d3ed8e403b8241feaaf09eae62": {
      "model_module": "@jupyter-widgets/base",
      "model_module_version": "1.1.0",
      "model_name": "LayoutModel",
      "state": {}
     },
     "471c48613c5943dd8f8c46d5fc359345": {
      "model_module": "@jupyter-widgets/base",
      "model_module_version": "1.1.0",
      "model_name": "LayoutModel",
      "state": {}
     },
     "4876d6071374461a972d5a16682878a9": {
      "model_module": "@jupyter-widgets/controls",
      "model_module_version": "1.4.0",
      "model_name": "SliderStyleModel",
      "state": {
       "description_width": "initial"
      }
     },
     "4900593154ec46289ce92fa422a87075": {
      "model_module": "@jupyter-widgets/controls",
      "model_module_version": "1.4.0",
      "model_name": "SliderStyleModel",
      "state": {
       "description_width": "initial"
      }
     },
     "4d52147b653841d28165ee8f6ded6c1f": {
      "model_module": "@jupyter-widgets/controls",
      "model_module_version": "1.4.0",
      "model_name": "CheckboxModel",
      "state": {
       "description": "Sum",
       "disabled": false,
       "layout": "IPY_MODEL_fd6da6bb91ff44b2a512de978c9062ab",
       "style": "IPY_MODEL_8b2a02914cc34b589b2a2bfd64c84090",
       "value": false
      }
     },
     "4ee7aa6f0e3546eba8b697fde4b45dac": {
      "model_module": "@jupyter-widgets/controls",
      "model_module_version": "1.4.0",
      "model_name": "DescriptionStyleModel",
      "state": {
       "description_width": ""
      }
     },
     "4fa450c21e63454bbb6d97963c7ead37": {
      "model_module": "@jupyter-widgets/controls",
      "model_module_version": "1.4.0",
      "model_name": "IntSliderModel",
      "state": {
       "description": "Number of channels",
       "layout": "IPY_MODEL_a66cab132e2744838c79cfb3ac164824",
       "max": 64,
       "min": 1,
       "style": "IPY_MODEL_523d66e67f764da9abd80c1972a5403d",
       "value": 64
      }
     },
     "523d66e67f764da9abd80c1972a5403d": {
      "model_module": "@jupyter-widgets/controls",
      "model_module_version": "1.4.0",
      "model_name": "SliderStyleModel",
      "state": {
       "description_width": "initial"
      }
     },
     "58b96bc632fe4613a414142329da5315": {
      "model_module": "@jupyter-widgets/controls",
      "model_module_version": "1.4.0",
      "model_name": "SliderStyleModel",
      "state": {
       "description_width": "initial"
      }
     },
     "62f6202a6e694cbc8d573ba1c7d3db8e": {
      "model_module": "@jupyter-widgets/controls",
      "model_module_version": "1.4.0",
      "model_name": "VBoxModel",
      "state": {
       "_dom_classes": [
        "widget-interact"
       ],
       "children": [
        "IPY_MODEL_dc0a5effeb684f908aad830a2be2eefe",
        "IPY_MODEL_4fa450c21e63454bbb6d97963c7ead37",
        "IPY_MODEL_b080d591d1e849f5b86eda5f3537f1e6",
        "IPY_MODEL_b6f4a0d0198c4841b6707f3090f29e8e",
        "IPY_MODEL_7b4fdd098b874d1297fb3f1ab3111903",
        "IPY_MODEL_9c06e59db9c246459d7cb70b98cf7f60",
        "IPY_MODEL_4d52147b653841d28165ee8f6ded6c1f",
        "IPY_MODEL_24bca9d8307645d19c9e8112a2ff0e0a"
       ],
       "layout": "IPY_MODEL_c13d43d4390b4d55a111082c7865a97d"
      }
     },
     "65b0bdd75e064e7ca3ac1aa016f0251a": {
      "model_module": "@jupyter-widgets/controls",
      "model_module_version": "1.4.0",
      "model_name": "IntSliderModel",
      "state": {
       "description": "Time of observation (s)",
       "layout": "IPY_MODEL_3e9f3322b3334a38bd8b76caf4693d26",
       "max": 36000,
       "min": 1,
       "style": "IPY_MODEL_d49ed066dc0348e18b7a4deb43116195",
       "value": 3600
      }
     },
     "6b29751c37194c58baf99a3bb6285142": {
      "model_module": "@jupyter-widgets/controls",
      "model_module_version": "1.4.0",
      "model_name": "DescriptionStyleModel",
      "state": {
       "description_width": ""
      }
     },
     "6ebf6dfe72f34d31a2c4a27626cc3574": {
      "model_module": "@jupyter-widgets/base",
      "model_module_version": "1.1.0",
      "model_name": "LayoutModel",
      "state": {}
     },
     "77b9c7a84a1a46b6bdd74584487cd400": {
      "model_module": "@jupyter-widgets/controls",
      "model_module_version": "1.4.0",
      "model_name": "SliderStyleModel",
      "state": {
       "description_width": "initial"
      }
     },
     "77fa813325bf47899cd850792b064859": {
      "model_module": "@jupyter-widgets/controls",
      "model_module_version": "1.4.0",
      "model_name": "FloatSliderModel",
      "state": {
       "description": "Observation band (MHz)",
       "layout": "IPY_MODEL_800150e27174440bafa249764b87b67a",
       "max": 75,
       "min": 1,
       "step": 0.1953125,
       "style": "IPY_MODEL_0e5becc04e4142aea6054e2686156e81",
       "value": 75
      }
     },
     "7b012ff6bffa47f5938484b6ef10410c": {
      "model_module": "@jupyter-widgets/base",
      "model_module_version": "1.1.0",
      "model_name": "LayoutModel",
      "state": {}
     },
     "7b4fdd098b874d1297fb3f1ab3111903": {
      "model_module": "@jupyter-widgets/controls",
      "model_module_version": "1.4.0",
      "model_name": "IntSliderModel",
      "state": {
       "description": "Time of observation (s)",
       "layout": "IPY_MODEL_45a680d3ed8e403b8241feaaf09eae62",
       "max": 36000,
       "min": 1,
       "style": "IPY_MODEL_58b96bc632fe4613a414142329da5315",
       "value": 3600
      }
     },
     "800150e27174440bafa249764b87b67a": {
      "model_module": "@jupyter-widgets/base",
      "model_module_version": "1.1.0",
      "model_name": "LayoutModel",
      "state": {}
     },
     "81ad27fb68ca45d4856fef2d3db11f14": {
      "model_module": "@jupyter-widgets/controls",
      "model_module_version": "1.4.0",
      "model_name": "IntSliderModel",
      "state": {
       "description": "Number of mini-array",
       "layout": "IPY_MODEL_0d9b7ed3b3524f9290544d7d7493dbef",
       "max": 96,
       "style": "IPY_MODEL_fe2301ae2f9a4303a242fc976493bcad",
       "value": 96
      }
     },
     "82daaf7e514c4fccaf624b787c1d42aa": {
      "model_module": "@jupyter-widgets/controls",
      "model_module_version": "1.4.0",
      "model_name": "DescriptionStyleModel",
      "state": {
       "description_width": ""
      }
     },
     "8358ec18d35e4175abafac681cbbc95e": {
      "model_module": "@jupyter-widgets/controls",
      "model_module_version": "1.4.0",
      "model_name": "DropdownModel",
      "state": {
       "_options_labels": [
        "Imaging",
        "Beamformer",
        "Waveform"
       ],
       "description": "mode",
       "index": 1,
       "layout": "IPY_MODEL_c9a826b300d7458e9db7f16d2ac662de",
       "style": "IPY_MODEL_15df3116670f40a1abeb5f20f7ac54c5"
      }
     },
     "86853b8f0a9e4dbc91438e8241aaaf99": {
      "model_module": "@jupyter-widgets/base",
      "model_module_version": "1.1.0",
      "model_name": "LayoutModel",
      "state": {}
     },
     "873c8296dbab401dbfb56f7573032ddf": {
      "model_module": "@jupyter-widgets/controls",
      "model_module_version": "1.4.0",
      "model_name": "SliderStyleModel",
      "state": {
       "description_width": "initial"
      }
     },
     "88882c84f7c348b3a0d4ee97e9b4c4a8": {
      "model_module": "@jupyter-widgets/controls",
      "model_module_version": "1.4.0",
      "model_name": "IntSliderModel",
      "state": {
       "description": "Number of channels",
       "layout": "IPY_MODEL_a66e49422e3d4d099c752d9d7d7183c7",
       "max": 64,
       "min": 1,
       "style": "IPY_MODEL_4876d6071374461a972d5a16682878a9",
       "value": 64
      }
     },
     "8ace5ad34aa64e9b8ec91aeb60b890b2": {
      "model_module": "@jupyter-widgets/base",
      "model_module_version": "1.1.0",
      "model_name": "LayoutModel",
      "state": {}
     },
     "8b2a02914cc34b589b2a2bfd64c84090": {
      "model_module": "@jupyter-widgets/controls",
      "model_module_version": "1.4.0",
      "model_name": "DescriptionStyleModel",
      "state": {
       "description_width": ""
      }
     },
     "8deb21f71fcb4a5aba97dd62a5b0359a": {
      "model_module": "@jupyter-widgets/controls",
      "model_module_version": "1.4.0",
      "model_name": "CheckboxModel",
      "state": {
       "description": "Sum",
       "disabled": false,
       "layout": "IPY_MODEL_a71f2253c5254b34bedbbcddbc553270",
       "style": "IPY_MODEL_6b29751c37194c58baf99a3bb6285142",
       "value": false
      }
     },
     "9330101ea64f4464b9a13d0c0de7686a": {
      "model_module": "@jupyter-widgets/controls",
      "model_module_version": "1.4.0",
      "model_name": "IntSliderModel",
      "state": {
       "description": "Number of mini-array",
       "layout": "IPY_MODEL_baf6a21a1b8c4998af395e5cc76cdf3a",
       "max": 96,
       "style": "IPY_MODEL_77b9c7a84a1a46b6bdd74584487cd400",
       "value": 96
      }
     },
     "97cd7607ee5c4d698fd1510139667d60": {
      "model_module": "@jupyter-widgets/controls",
      "model_module_version": "1.4.0",
      "model_name": "SliderStyleModel",
      "state": {
       "description_width": "initial"
      }
     },
     "9c06e59db9c246459d7cb70b98cf7f60": {
      "model_module": "@jupyter-widgets/controls",
      "model_module_version": "1.4.0",
      "model_name": "DropdownModel",
      "state": {
       "_options_labels": [
        "Imaging",
        "Beamformer",
        "Waveform"
       ],
       "description": "mode",
       "index": 1,
       "layout": "IPY_MODEL_350e2d416fc243518639564462f56c0e",
       "style": "IPY_MODEL_4ee7aa6f0e3546eba8b697fde4b45dac"
      }
     },
     "a66cab132e2744838c79cfb3ac164824": {
      "model_module": "@jupyter-widgets/base",
      "model_module_version": "1.1.0",
      "model_name": "LayoutModel",
      "state": {}
     },
     "a66e49422e3d4d099c752d9d7d7183c7": {
      "model_module": "@jupyter-widgets/base",
      "model_module_version": "1.1.0",
      "model_name": "LayoutModel",
      "state": {}
     },
     "a71f2253c5254b34bedbbcddbc553270": {
      "model_module": "@jupyter-widgets/base",
      "model_module_version": "1.1.0",
      "model_name": "LayoutModel",
      "state": {}
     },
     "a7b25e1102d24a27a3303646222e3d92": {
      "model_module": "@jupyter-widgets/controls",
      "model_module_version": "1.4.0",
      "model_name": "DescriptionStyleModel",
      "state": {
       "description_width": ""
      }
     },
     "ac4ea6120d764fa4beac583f5b5c9b11": {
      "model_module": "@jupyter-widgets/controls",
      "model_module_version": "1.4.0",
      "model_name": "VBoxModel",
      "state": {
       "_dom_classes": [
        "widget-interact"
       ],
       "children": [
        "IPY_MODEL_81ad27fb68ca45d4856fef2d3db11f14",
        "IPY_MODEL_88882c84f7c348b3a0d4ee97e9b4c4a8",
        "IPY_MODEL_30db19c2c2704745accf95971217c827",
        "IPY_MODEL_0dbc0e1e524e4f69a0368bfaa6e66de1",
        "IPY_MODEL_c891482d32044c8085d8a0287b458d54",
        "IPY_MODEL_8358ec18d35e4175abafac681cbbc95e",
        "IPY_MODEL_29ba66f0b9644d949ab05c7a33e66d18",
        "IPY_MODEL_f9beb3c532dd42e48df11a47baa4fd31"
       ],
       "layout": "IPY_MODEL_471c48613c5943dd8f8c46d5fc359345"
      }
     },
     "b080d591d1e849f5b86eda5f3537f1e6": {
      "model_module": "@jupyter-widgets/controls",
      "model_module_version": "1.4.0",
      "model_name": "IntSliderModel",
      "state": {
       "description": "Time integration (s)",
       "layout": "IPY_MODEL_d1858655db1a45dfbb21e379d73a1961",
       "max": 60,
       "min": 1,
       "style": "IPY_MODEL_eb6d1b01ac9440e79cfade035ce23c04",
       "value": 1
      }
     },
     "b6f4a0d0198c4841b6707f3090f29e8e": {
      "model_module": "@jupyter-widgets/controls",
      "model_module_version": "1.4.0",
      "model_name": "FloatSliderModel",
      "state": {
       "description": "Observation band (MHz)",
       "layout": "IPY_MODEL_cbe57ef5ea3b44fd934bd60ef68aad1f",
       "max": 75,
       "min": 1,
       "step": 0.1953125,
       "style": "IPY_MODEL_97cd7607ee5c4d698fd1510139667d60",
       "value": 75
      }
     },
     "baf6a21a1b8c4998af395e5cc76cdf3a": {
      "model_module": "@jupyter-widgets/base",
      "model_module_version": "1.1.0",
      "model_name": "LayoutModel",
      "state": {}
     },
     "c13d43d4390b4d55a111082c7865a97d": {
      "model_module": "@jupyter-widgets/base",
      "model_module_version": "1.1.0",
      "model_name": "LayoutModel",
      "state": {}
     },
     "c891482d32044c8085d8a0287b458d54": {
      "model_module": "@jupyter-widgets/controls",
      "model_module_version": "1.4.0",
      "model_name": "IntSliderModel",
      "state": {
       "description": "Time of observation (s)",
       "layout": "IPY_MODEL_0e828543331f4ac08c715b01bb3d8da4",
       "max": 36000,
       "min": 1,
       "style": "IPY_MODEL_e573e9df55d24246ac49bbcbf292bc11",
       "value": 3600
      }
     },
     "c9a826b300d7458e9db7f16d2ac662de": {
      "model_module": "@jupyter-widgets/base",
      "model_module_version": "1.1.0",
      "model_name": "LayoutModel",
      "state": {}
     },
     "cbe57ef5ea3b44fd934bd60ef68aad1f": {
      "model_module": "@jupyter-widgets/base",
      "model_module_version": "1.1.0",
      "model_name": "LayoutModel",
      "state": {}
     },
     "cd0b09d60f924319b4a2b01e456eeee8": {
      "model_module": "@jupyter-widgets/base",
      "model_module_version": "1.1.0",
      "model_name": "LayoutModel",
      "state": {}
     },
     "d1858655db1a45dfbb21e379d73a1961": {
      "model_module": "@jupyter-widgets/base",
      "model_module_version": "1.1.0",
      "model_name": "LayoutModel",
      "state": {}
     },
     "d49ed066dc0348e18b7a4deb43116195": {
      "model_module": "@jupyter-widgets/controls",
      "model_module_version": "1.4.0",
      "model_name": "SliderStyleModel",
      "state": {
       "description_width": "initial"
      }
     },
     "da05a1c1e6f34c5d849dd696d32a58af": {
      "model_module": "@jupyter-widgets/base",
      "model_module_version": "1.1.0",
      "model_name": "LayoutModel",
      "state": {}
     },
     "da1de42c9b304f318adc6389c136649f": {
      "model_module": "@jupyter-widgets/controls",
      "model_module_version": "1.4.0",
      "model_name": "SliderStyleModel",
      "state": {
       "description_width": "initial"
      }
     },
     "dc0a5effeb684f908aad830a2be2eefe": {
      "model_module": "@jupyter-widgets/controls",
      "model_module_version": "1.4.0",
      "model_name": "IntSliderModel",
      "state": {
       "description": "Number of mini-array",
       "layout": "IPY_MODEL_0115db9ebd374070b6661c1789f54877",
       "max": 96,
       "style": "IPY_MODEL_21bad10ff5184ae7a41645ed7303851a",
       "value": 96
      }
     },
     "e573e9df55d24246ac49bbcbf292bc11": {
      "model_module": "@jupyter-widgets/controls",
      "model_module_version": "1.4.0",
      "model_name": "SliderStyleModel",
      "state": {
       "description_width": "initial"
      }
     },
     "e6de9707717047879b054d0698d4feb7": {
      "model_module": "@jupyter-widgets/output",
      "model_module_version": "1.0.0",
      "model_name": "OutputModel",
      "state": {
       "layout": "IPY_MODEL_cd0b09d60f924319b4a2b01e456eeee8",
       "outputs": [
        {
         "name": "stdout",
         "output_type": "stream",
         "text": "Rate=       1.0 KB/s/SB\nRate=     384.0 KB/s\nRate=     192.0 KB/s/node\nVolume=       1.3  GB in     3600 sec\n"
        }
       ]
      }
     },
     "eb6d1b01ac9440e79cfade035ce23c04": {
      "model_module": "@jupyter-widgets/controls",
      "model_module_version": "1.4.0",
      "model_name": "SliderStyleModel",
      "state": {
       "description_width": "initial"
      }
     },
     "ec7eaa5c895346a5a8f115174666325d": {
      "model_module": "@jupyter-widgets/controls",
      "model_module_version": "1.4.0",
      "model_name": "IntSliderModel",
      "state": {
       "description": "Number of channels",
       "layout": "IPY_MODEL_86853b8f0a9e4dbc91438e8241aaaf99",
       "max": 64,
       "min": 1,
       "style": "IPY_MODEL_873c8296dbab401dbfb56f7573032ddf",
       "value": 64
      }
     },
     "f2627e1dd8e4449e8e39de0be8285b7d": {
      "model_module": "@jupyter-widgets/base",
      "model_module_version": "1.1.0",
      "model_name": "LayoutModel",
      "state": {}
     },
     "f9beb3c532dd42e48df11a47baa4fd31": {
      "model_module": "@jupyter-widgets/output",
      "model_module_version": "1.0.0",
      "model_name": "OutputModel",
      "state": {
       "layout": "IPY_MODEL_1a30db8c9cc041daab1a506ba36a64b3",
       "outputs": [
        {
         "name": "stdout",
         "output_type": "stream",
         "text": "Rate=       1.0 KB/s/SB\nRate=     384.0 KB/s\nRate=     192.0 KB/s/node\nVolume=       1.3  GB in     3600 sec\n"
        }
       ]
      }
     },
     "fd6da6bb91ff44b2a512de978c9062ab": {
      "model_module": "@jupyter-widgets/base",
      "model_module_version": "1.1.0",
      "model_name": "LayoutModel",
      "state": {}
     },
     "fdc33a1162ed48e283923a453a418372": {
      "model_module": "@jupyter-widgets/controls",
      "model_module_version": "1.4.0",
      "model_name": "IntSliderModel",
      "state": {
       "description": "Time integration (s)",
       "layout": "IPY_MODEL_39b90e04465c497c8c45e1bb16f3f7a7",
       "max": 60,
       "min": 1,
       "style": "IPY_MODEL_1ebec3ce0df34bfb89793e9df192fb54",
       "value": 1
      }
     },
     "fe2301ae2f9a4303a242fc976493bcad": {
      "model_module": "@jupyter-widgets/controls",
      "model_module_version": "1.4.0",
      "model_name": "SliderStyleModel",
      "state": {
       "description_width": "initial"
      }
     }
    },
    "version_major": 2,
    "version_minor": 0
   }
  }
 },
 "nbformat": 4,
 "nbformat_minor": 2
}
