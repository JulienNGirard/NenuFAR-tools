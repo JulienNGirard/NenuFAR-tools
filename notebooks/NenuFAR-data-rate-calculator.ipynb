{
 "cells": [
  {
   "cell_type": "markdown",
   "metadata": {},
   "source": [
    "### NenuFAR Data Rate Calculator\n",
    "Version: 1 - 09/05/2019\n",
    "\n",
    "You are in an interactive python notebook. \n",
    "- 1) Press the fast-forward button to execute the code\n",
    "- 2) use the interactive knobs to compute the data rate.\n",
    "\n",
    "This program omputes and displays NenuFAR data rates and volumes:\n",
    "\n",
    "    INPUTS\n",
    "    Nma  = number of Mini-Arrays involved\n",
    "    Nch  = number of channels / 195.3125 kHz subband\n",
    "    dt   = integration time of spectra / of visibility sets (sec)\n",
    "    Df   = total bandwidth (MHz)\n",
    "    Tobs = total observation time (sec)\n",
    "\n",
    "    KEYWORDS\n",
    "    mode = \"BF\"  => Beamformer mode\t(uses Nch, dt, Df)\n",
    "           \"IM\"  => Imager mode\t\t(uses Nma, Nch, dt, Df)\n",
    "           \"WF\"  => Waveform mode\t(uses Nma)\n",
    "    Sum  = 1 line SUMMARY"
   ]
  },
  {
   "cell_type": "code",
   "execution_count": 3,
   "metadata": {},
   "outputs": [
    {
     "data": {
      "text/html": [
       "<script>\n",
       "code_show=true; \n",
       "function code_toggle() {\n",
       "    if (code_show){\n",
       "        $('div.cell.code_cell.rendered.selected div.input').hide();\n",
       "    } else {\n",
       "        $('div.cell.code_cell.rendered.selected div.input').show();\n",
       "    }\n",
       "    code_show = !code_show\n",
       "} \n",
       "$( document ).ready(code_toggle);\n",
       "</script>\n",
       "If you want to see the source code, click <a href=\"javascript:code_toggle()\">here</a>."
      ],
      "text/plain": [
       "<IPython.core.display.HTML object>"
      ]
     },
     "metadata": {},
     "output_type": "display_data"
    }
   ],
   "source": [
    "from __future__ import print_function\n",
    "from ipywidgets import interact, interactive, fixed, interact_manual\n",
    "import ipywidgets as widgets\n",
    "\n",
    "from IPython.display import HTML\n",
    "from IPython.display import display\n",
    "\n",
    "# Taken from https://stackoverflow.com/questions/31517194/how-to-hide-one-specific-cell-input-or-output-in-ipython-notebook\n",
    "tag = HTML('''<script>\n",
    "code_show=true; \n",
    "function code_toggle() {\n",
    "    if (code_show){\n",
    "        $('div.cell.code_cell.rendered.selected div.input').hide();\n",
    "    } else {\n",
    "        $('div.cell.code_cell.rendered.selected div.input').show();\n",
    "    }\n",
    "    code_show = !code_show\n",
    "} \n",
    "$( document ).ready(code_toggle);\n",
    "</script>\n",
    "If you want to see the source code, click <a href=\"javascript:code_toggle()\">here</a>.''')\n",
    "display(tag)\n",
    "\n",
    "def KMGT_Bytes(B):\n",
    "#-----------------------------------------------------------\n",
    "# B = data volume or rate in Bytes\n",
    "# XB = data volume or rate in K/M/G/TBytes\n",
    "# Unit = KB, MB, GB, TB\n",
    "\n",
    "    Unit='B' ; XB=B\n",
    "    k=1024.\n",
    "\n",
    "    if B >= k and B < k**2:\n",
    "        XB=B/k ; Unit='KB'\n",
    "\n",
    "    if B >= k**2 and B < k**3:\n",
    "        XB=B/k**2 ; Unit='MB'\n",
    "\n",
    "    if B >= k**3 and B < k**4:\n",
    "        XB=B/k**3 ; Unit='GB'\n",
    "\n",
    "    if B >= k**4:\n",
    "        XB=B/k**4 ; Unit='TB'\n",
    "\n",
    "    return XB,Unit\n",
    "\n",
    "def data_rate_vol(Nma=96,Nch=64,dt=1,Df=75,Tobs=3600,mode=\"BF\",Sum=False):\n",
    "    \"\"\"\n",
    "    IDL original version v1, PZ, 20190319\n",
    "    PYTHON transcript v1, JG, 20200509\n",
    "\n",
    "    Computes and displays NenuFAR data rates and volumes\n",
    "\n",
    "    INPUTS\n",
    "    Nma  = number of Mini-Arrays involved\n",
    "    Nch  = number of channels / 195.3125 kHz subband\n",
    "    dt   = integration time of spectra / of visibility sets (sec)\n",
    "    Df   = total bandwidth (MHz)\n",
    "    Tobs = total observation time (sec)\n",
    "\n",
    "    KEYWORDS\n",
    "    mode = \"BF\"  => Beamformer mode\t(uses Nch, dt, Df)\n",
    "           \"IM\"  => Imager mode\t\t(uses Nma, Nch, dt, Df)\n",
    "           \"WF\"  => Waveform mode\t(uses Nma)\n",
    "    Sum  = 1 line SUMMARY\n",
    "    \n",
    "    \"\"\"\n",
    "    \n",
    "    Nsb=min(round(Df/0.1953125),768)\n",
    "\n",
    "    D_bf_sb=4.*4.*Nch/dt ;  D_bf=D_bf_sb*Nsb ; D_bf_n = D_bf/2 #2 UnDySPuTeD nodes \n",
    "    D_im_sb = 8.*4.*Nch*(Nma*(Nma-1)*1./2+Nma)/dt ; D_im = D_im_sb*Nsb ; D_im_n = D_im/4 #4 correlator nodes\n",
    "    D_wf_sb = 0. ; D_wf = 2.*2.*2e8*Nma ; D_wf_n = D_wf; #1 Waveform node NB0\n",
    "    \n",
    "    if mode == \"BF\":\n",
    "        D_sb=D_bf_sb ; D_tot=D_bf ; D_n=D_bf_n ; IM=0 ; WF=0\n",
    "    elif mode == \"IM\":\n",
    "        D_sb=D_im_sb ; D_tot=D_im ; D_n=D_im_n ; WF=0\n",
    "    elif mode == \"WF\":\n",
    "        D_sb=D_wf_sb ; D_tot=D_wf ; D_n=D_wf_n\n",
    "    elif mode == None:\n",
    "        print(\"Choose a mode=BF or IM or WF\")\n",
    "\n",
    "    # data rates / sec : /sb, total, /node\n",
    "\n",
    "    XD_sb,U_sb=KMGT_Bytes(D_sb)\n",
    "    if not(Sum) and mode!=\"WF\":\n",
    "        print(\"Rate=  \"+\"%8.1f %s/s/SB\"%(XD_sb,U_sb)) #,format='(\",f8.1,2x,a2,\"/s/SB\")'\n",
    "\n",
    "    XD_tot, U_tot=KMGT_Bytes(D_tot) \n",
    "    if not(Sum):\n",
    "        print(\"Rate=  \"+\"%8.1f %s/s\"%(XD_tot,U_tot)) #,format='(\"Rate=  \",f8.1,2x,a2,\"/s\")'\n",
    "\n",
    "    XD_n, U_n=KMGT_Bytes(D_n)\n",
    "    if not(Sum):\n",
    "        print(\"Rate=  \"+\"%8.1f %s/s/node\"%(XD_n,U_n)) #,format='(\"Rate=  \",f8.1,2x,a2,\"/s/node\")\n",
    "        \n",
    "        \n",
    "    # data volumes total for Tobs\n",
    "\n",
    "    V_tot = D_tot*Tobs\n",
    "    XV_tot, UV_tot=KMGT_Bytes(V_tot)\n",
    "    if not(Sum):\n",
    "        print(\"Volume= \",'%8.1f  %s'%(XV_tot,UV_tot),\"in \",'%7.0f sec'%Tobs)\n",
    "\n",
    "    if Sum:\n",
    "        print(\"%d MA %d ch/SB %7.3f sec %5.1f MHz %6.0f sec :\\n Rate = %6.1f %s /s/SB %6.1f %s /s %6.1f %s /s/node :\\n Volume = %6.1f %s)\"%(Nma,Nch,dt,Df,Tobs, XD_sb,U_sb,XD_tot,U_tot,XD_n,U_n,XV_tot,UV_tot))\n",
    "  #format='(i3,\" MA \",i3,\" ch/SB \",f7.3,\" sec \",f5.1,\" MHz \",f6.0,\" sec : Rate =\",f6.1,1x,a2,\"/s/SB \",f6.1,1x,a2,\"/s \",f6.1,1x,a2,\"/s/node : Volume =\",f6.1,1x,a2)'"
   ]
  },
  {
   "cell_type": "code",
   "execution_count": 2,
   "metadata": {},
   "outputs": [
    {
     "data": {
      "application/vnd.jupyter.widget-view+json": {
       "model_id": "160fbeb3203549b990f6a1f0eaa87f3d",
       "version_major": 2,
       "version_minor": 0
      },
      "text/plain": [
       "aW50ZXJhY3RpdmUoY2hpbGRyZW49KEludFNsaWRlcih2YWx1ZT05NiwgZGVzY3JpcHRpb249dSdOdW1iZXIgb2YgTWluaS1hcnJheXMnLCBtYXg9OTYsIHN0eWxlPVNsaWRlclN0eWxlKGRlc2PigKY=\n"
      ]
     },
     "metadata": {},
     "output_type": "display_data"
    },
    {
     "data": {
      "text/plain": [
       "<function __main__.data_rate_vol>"
      ]
     },
     "execution_count": 2,
     "metadata": {},
     "output_type": "execute_result"
    }
   ],
   "source": [
    "style = {'description_width': 'initial'}\n",
    "\n",
    "interact(data_rate_vol,Nma=widgets.IntSlider(description=\"Number of Mini-arrays\",min=0,max=96,step=1,value=96,style=style),\n",
    "         Nch=widgets.IntSlider(description=\"Number of channels\",min=1,max=64,step=1,value=64,style=style), \n",
    "         dt=widgets.IntSlider(description=\"Time integration (s)\",min=1,max=60,step=1,value=1,style=style),\n",
    "        Df=widgets.FloatSlider(description=\"Total observation band (MHz)\",min=1.,max=75.,step=0.1953125,value=75,style=style),\n",
    "         Tobs=widgets.IntSlider(description=\"Total observation time (s)\",min=1,max=36000,step=1,value=3600,style=style),\n",
    "        mode=[('Imaging', \"IM\"), ('Beamformer', \"BF\"),('Waveform', \"WF\")])"
   ]
  },
  {
   "cell_type": "code",
   "execution_count": null,
   "metadata": {},
   "outputs": [],
   "source": [
    "style = {'description_width': 'initial'}\n",
    "\n",
    "interact(data_rate_vol,Nma=widgets.IntSlider(description=\"Number of mini-array\",min=0,max=96,step=1,value=96,style=style),\n",
    "         Nch=widgets.IntSlider(description=\"Number of channels\",min=1,max=64,step=1,value=64,style=style), \n",
    "         dt=widgets.IntSlider(description=\"Time integration (s)\",min=1,max=60,step=1,value=1,style=style),\n",
    "        Df=widgets.FloatSlider(description=\"Observation band (MHz)\",min=1.,max=75.,step=0.1953125,value=75,style=style),\n",
    "         Tobs=widgets.IntSlider(description=\"Time of observation (s)\",min=1,max=36000,step=1,value=3600,style=style),\n",
    "        mode=[('Imaging', \"IM\"), ('Beamformer', \"BF\"),('Waveform', \"WF\")])"
   ]
  }
 ],
 "metadata": {
  "kernelspec": {
   "display_name": "Python 2",
   "language": "python",
   "name": "python2"
  },
  "language_info": {
   "codemirror_mode": {
    "name": "ipython",
    "version": 2
   },
   "file_extension": ".py",
   "mimetype": "text/x-python",
   "name": "python",
   "nbconvert_exporter": "python",
   "pygments_lexer": "ipython2",
   "version": "2.7.15"
  },
  "widgets": {
   "application/vnd.jupyter.widget-state+json": {
    "state": {
     "0115db9ebd374070b6661c1789f54877": {
      "model_module": "@jupyter-widgets/base",
      "model_module_version": "1.1.0",
      "model_name": "LayoutModel",
      "state": {}
     },
     "0a791973748d4f7fbd19ea306320a5d3": {
      "model_module": "@jupyter-widgets/controls",
      "model_module_version": "1.4.0",
      "model_name": "SliderStyleModel",
      "state": {
       "description_width": "initial"
      }
     },
     "0d9b7ed3b3524f9290544d7d7493dbef": {
      "model_module": "@jupyter-widgets/base",
      "model_module_version": "1.1.0",
      "model_name": "LayoutModel",
      "state": {}
     },
     "0dbc0e1e524e4f69a0368bfaa6e66de1": {
      "model_module": "@jupyter-widgets/controls",
      "model_module_version": "1.4.0",
      "model_name": "FloatSliderModel",
      "state": {
       "description": "Observation band (MHz)",
       "layout": "IPY_MODEL_da05a1c1e6f34c5d849dd696d32a58af",
       "max": 75,
       "min": 1,
       "step": 0.1953125,
       "style": "IPY_MODEL_da1de42c9b304f318adc6389c136649f",
       "value": 75
      }
     },
     "0dfb734139b54f1fb3a903991f19547d": {
      "model_module": "@jupyter-widgets/controls",
      "model_module_version": "1.4.0",
      "model_name": "DescriptionStyleModel",
      "state": {
       "description_width": ""
      }
     },
     "0e40b72c1924445ab07c3d7ad95de87e": {
      "model_module": "@jupyter-widgets/controls",
      "model_module_version": "1.4.0",
      "model_name": "SliderStyleModel",
      "state": {
       "description_width": "initial"
      }
     },
     "0e5becc04e4142aea6054e2686156e81": {
      "model_module": "@jupyter-widgets/controls",
      "model_module_version": "1.4.0",
      "model_name": "SliderStyleModel",
      "state": {
       "description_width": "initial"
      }
     },
     "0e828543331f4ac08c715b01bb3d8da4": {
      "model_module": "@jupyter-widgets/base",
      "model_module_version": "1.1.0",
      "model_name": "LayoutModel",
      "state": {}
     },
     "153f81e9c7734fdb94e1466af7ca788e": {
      "model_module": "@jupyter-widgets/controls",
      "model_module_version": "1.4.0",
      "model_name": "VBoxModel",
      "state": {
       "_dom_classes": [
        "widget-interact"
       ],
       "children": [
        "IPY_MODEL_9330101ea64f4464b9a13d0c0de7686a",
        "IPY_MODEL_ec7eaa5c895346a5a8f115174666325d",
        "IPY_MODEL_fdc33a1162ed48e283923a453a418372",
        "IPY_MODEL_77fa813325bf47899cd850792b064859",
        "IPY_MODEL_65b0bdd75e064e7ca3ac1aa016f0251a",
        "IPY_MODEL_299d3e9cc4774dafa03c818751098689",
        "IPY_MODEL_8deb21f71fcb4a5aba97dd62a5b0359a",
        "IPY_MODEL_e6de9707717047879b054d0698d4feb7"
       ],
       "layout": "IPY_MODEL_7b012ff6bffa47f5938484b6ef10410c"
      }
     },
     "15df3116670f40a1abeb5f20f7ac54c5": {
      "model_module": "@jupyter-widgets/controls",
      "model_module_version": "1.4.0",
      "model_name": "DescriptionStyleModel",
      "state": {
       "description_width": ""
      }
     },
     "160fbeb3203549b990f6a1f0eaa87f3d": {
      "model_module": "@jupyter-widgets/controls",
      "model_module_version": "1.4.0",
      "model_name": "VBoxModel",
      "state": {
       "_dom_classes": [
        "widget-interact"
       ],
       "children": [
        "IPY_MODEL_b2729efe3e7e4c22b4511f1a415b17b0",
        "IPY_MODEL_aa70b2f00d654b65b67d55db57838d2e",
        "IPY_MODEL_9a3fae2ce393407ca06a217d07a92cda",
        "IPY_MODEL_3b3cf71922ff48fabfdb6a5935e4a97a",
        "IPY_MODEL_e9bf8d23aed74cde87715c8a12892332",
        "IPY_MODEL_8ad228cc0ea64a009f9e253bca1c45cf",
        "IPY_MODEL_68fbcc6fe68546a0ad7e56b1795fdda7",
        "IPY_MODEL_f355f3a54c4d46e3ad44d2ce1afe03d5"
       ],
       "layout": "IPY_MODEL_2ab3f4621af046ccabc3e8c83e1a1ccc"
      }
     },
     "1a30db8c9cc041daab1a506ba36a64b3": {
      "model_module": "@jupyter-widgets/base",
      "model_module_version": "1.1.0",
      "model_name": "LayoutModel",
      "state": {}
     },
     "1c32c1d9d49140a0a1ac57e40859b603": {
      "model_module": "@jupyter-widgets/base",
      "model_module_version": "1.1.0",
      "model_name": "LayoutModel",
      "state": {}
     },
     "1ebec3ce0df34bfb89793e9df192fb54": {
      "model_module": "@jupyter-widgets/controls",
      "model_module_version": "1.4.0",
      "model_name": "SliderStyleModel",
      "state": {
       "description_width": "initial"
      }
     },
     "1f235c0a7d2742ac888f3d356e53093e": {
      "model_module": "@jupyter-widgets/base",
      "model_module_version": "1.1.0",
      "model_name": "LayoutModel",
      "state": {}
     },
     "20bef3728c53402690c55788126229ea": {
      "model_module": "@jupyter-widgets/controls",
      "model_module_version": "1.4.0",
      "model_name": "CheckboxModel",
      "state": {
       "description": "Sum",
       "disabled": false,
       "layout": "IPY_MODEL_d8e05ea3e34b42e186a6bcd6318ffce5",
       "style": "IPY_MODEL_4400c24ba22d40a7913074a12e70317c",
       "value": false
      }
     },
     "20e8ecb6fedd4206b81bbde5fa94560c": {
      "model_module": "@jupyter-widgets/controls",
      "model_module_version": "1.4.0",
      "model_name": "IntSliderModel",
      "state": {
       "description": "Time of observation (s)",
       "layout": "IPY_MODEL_1c32c1d9d49140a0a1ac57e40859b603",
       "max": 36000,
       "min": 1,
       "style": "IPY_MODEL_367ab4aba12d42519f018d1311e57ccc",
       "value": 3600
      }
     },
     "21bad10ff5184ae7a41645ed7303851a": {
      "model_module": "@jupyter-widgets/controls",
      "model_module_version": "1.4.0",
      "model_name": "SliderStyleModel",
      "state": {
       "description_width": "initial"
      }
     },
     "22cb673b245e4a51bb324ba2528635c3": {
      "model_module": "@jupyter-widgets/controls",
      "model_module_version": "1.4.0",
      "model_name": "IntSliderModel",
      "state": {
       "description": "Number of channels",
       "layout": "IPY_MODEL_6597ff450a7c4ad58855aa2ce19b34dd",
       "max": 64,
       "min": 1,
       "style": "IPY_MODEL_82d259e2d916421b92a9d10df26cdf66",
       "value": 63
      }
     },
     "24bca9d8307645d19c9e8112a2ff0e0a": {
      "model_module": "@jupyter-widgets/output",
      "model_module_version": "1.0.0",
      "model_name": "OutputModel",
      "state": {
       "layout": "IPY_MODEL_f2627e1dd8e4449e8e39de0be8285b7d",
       "outputs": [
        {
         "name": "stdout",
         "output_type": "stream",
         "text": "Rate=       1.0 KB/s/SB\nRate=     384.0 KB/s\nRate=     192.0 KB/s/node\nVolume=       1.3  GB in     3600 sec\n"
        }
       ]
      }
     },
     "291f8e14a1c94b36affa82480b2b4ca5": {
      "model_module": "@jupyter-widgets/base",
      "model_module_version": "1.1.0",
      "model_name": "LayoutModel",
      "state": {}
     },
     "299d3e9cc4774dafa03c818751098689": {
      "model_module": "@jupyter-widgets/controls",
      "model_module_version": "1.4.0",
      "model_name": "DropdownModel",
      "state": {
       "_options_labels": [
        "Imaging",
        "Beamformer",
        "Waveform"
       ],
       "description": "mode",
       "index": 1,
       "layout": "IPY_MODEL_6ebf6dfe72f34d31a2c4a27626cc3574",
       "style": "IPY_MODEL_82daaf7e514c4fccaf624b787c1d42aa"
      }
     },
     "29ba66f0b9644d949ab05c7a33e66d18": {
      "model_module": "@jupyter-widgets/controls",
      "model_module_version": "1.4.0",
      "model_name": "CheckboxModel",
      "state": {
       "description": "Sum",
       "disabled": false,
       "layout": "IPY_MODEL_8ace5ad34aa64e9b8ec91aeb60b890b2",
       "style": "IPY_MODEL_a7b25e1102d24a27a3303646222e3d92",
       "value": false
      }
     },
     "2ab3f4621af046ccabc3e8c83e1a1ccc": {
      "model_module": "@jupyter-widgets/base",
      "model_module_version": "1.1.0",
      "model_name": "LayoutModel",
      "state": {}
     },
     "2dffedd4af07499fb34caa589eb4b915": {
      "model_module": "@jupyter-widgets/base",
      "model_module_version": "1.1.0",
      "model_name": "LayoutModel",
      "state": {}
     },
     "30db19c2c2704745accf95971217c827": {
      "model_module": "@jupyter-widgets/controls",
      "model_module_version": "1.4.0",
      "model_name": "IntSliderModel",
      "state": {
       "description": "Time integration (s)",
       "layout": "IPY_MODEL_2dffedd4af07499fb34caa589eb4b915",
       "max": 60,
       "min": 1,
       "style": "IPY_MODEL_4900593154ec46289ce92fa422a87075",
       "value": 1
      }
     },
     "350e2d416fc243518639564462f56c0e": {
      "model_module": "@jupyter-widgets/base",
      "model_module_version": "1.1.0",
      "model_name": "LayoutModel",
      "state": {}
     },
     "354a04300898419aa1b64314fcba3366": {
      "model_module": "@jupyter-widgets/controls",
      "model_module_version": "1.4.0",
      "model_name": "DescriptionStyleModel",
      "state": {
       "description_width": ""
      }
     },
     "367ab4aba12d42519f018d1311e57ccc": {
      "model_module": "@jupyter-widgets/controls",
      "model_module_version": "1.4.0",
      "model_name": "SliderStyleModel",
      "state": {
       "description_width": "initial"
      }
     },
     "39b90e04465c497c8c45e1bb16f3f7a7": {
      "model_module": "@jupyter-widgets/base",
      "model_module_version": "1.1.0",
      "model_name": "LayoutModel",
      "state": {}
     },
     "3b3cf71922ff48fabfdb6a5935e4a97a": {
      "model_module": "@jupyter-widgets/controls",
      "model_module_version": "1.4.0",
      "model_name": "FloatSliderModel",
      "state": {
       "description": "Total observation band (MHz)",
       "layout": "IPY_MODEL_c1044d2c3b774eaab8f7fab3ba8ad38d",
       "max": 75,
       "min": 1,
       "step": 0.1953125,
       "style": "IPY_MODEL_d24249716ee642ab8b4859b3b4fe9a14",
       "value": 75
      }
     },
     "3e9f3322b3334a38bd8b76caf4693d26": {
      "model_module": "@jupyter-widgets/base",
      "model_module_version": "1.1.0",
      "model_name": "LayoutModel",
      "state": {}
     },
     "3f35e445ca78451880d4cd8a9bd14944": {
      "model_module": "@jupyter-widgets/controls",
      "model_module_version": "1.4.0",
      "model_name": "DropdownModel",
      "state": {
       "_options_labels": [
        "Imaging",
        "Beamformer",
        "Waveform"
       ],
       "description": "mode",
       "index": 0,
       "layout": "IPY_MODEL_4d98445205074f0b96ae02b83b6be97c",
       "style": "IPY_MODEL_5f814d6a48f246b680007b18a2387c45"
      }
     },
     "41976062365842d8aa8e44cedd7a5a46": {
      "model_module": "@jupyter-widgets/controls",
      "model_module_version": "1.4.0",
      "model_name": "VBoxModel",
      "state": {
       "_dom_classes": [
        "widget-interact"
       ],
       "children": [
        "IPY_MODEL_a6d9a68c5b4b49d9a7330b3821672cd8",
        "IPY_MODEL_22cb673b245e4a51bb324ba2528635c3",
        "IPY_MODEL_7e38a10fadf143fb8c56597dadd59d24",
        "IPY_MODEL_ae8373b77b7d4707aacf188f559d5f7f",
        "IPY_MODEL_20e8ecb6fedd4206b81bbde5fa94560c",
        "IPY_MODEL_3f35e445ca78451880d4cd8a9bd14944",
        "IPY_MODEL_20bef3728c53402690c55788126229ea",
        "IPY_MODEL_d8d32a4b11e64114b67b7d2e99cee630"
       ],
       "layout": "IPY_MODEL_6f5a9c895f96450bb5ab94a8a07f3ccc"
      }
     },
     "421caabca9d64328baef1740d85f085b": {
      "model_module": "@jupyter-widgets/controls",
      "model_module_version": "1.4.0",
      "model_name": "IntSliderModel",
      "state": {
       "description": "Time of observation (s)",
       "layout": "IPY_MODEL_e9bb0e52654d4287b667e6ad0a074cee",
       "max": 36000,
       "min": 1,
       "style": "IPY_MODEL_c20e8c901d2b4536b05335743eb45c1f",
       "value": 3600
      }
     },
     "4400c24ba22d40a7913074a12e70317c": {
      "model_module": "@jupyter-widgets/controls",
      "model_module_version": "1.4.0",
      "model_name": "DescriptionStyleModel",
      "state": {
       "description_width": ""
      }
     },
     "447e59acd6b047c7956926e5d0f6e62f": {
      "model_module": "@jupyter-widgets/controls",
      "model_module_version": "1.4.0",
      "model_name": "SliderStyleModel",
      "state": {
       "description_width": "initial"
      }
     },
     "44f6ba742a7c4d24a61a9c12e81f5743": {
      "model_module": "@jupyter-widgets/base",
      "model_module_version": "1.1.0",
      "model_name": "LayoutModel",
      "state": {}
     },
     "45a680d3ed8e403b8241feaaf09eae62": {
      "model_module": "@jupyter-widgets/base",
      "model_module_version": "1.1.0",
      "model_name": "LayoutModel",
      "state": {}
     },
     "468dedd8c81b459fa516a6bddd900551": {
      "model_module": "@jupyter-widgets/base",
      "model_module_version": "1.1.0",
      "model_name": "LayoutModel",
      "state": {}
     },
     "471c48613c5943dd8f8c46d5fc359345": {
      "model_module": "@jupyter-widgets/base",
      "model_module_version": "1.1.0",
      "model_name": "LayoutModel",
      "state": {}
     },
     "4876d6071374461a972d5a16682878a9": {
      "model_module": "@jupyter-widgets/controls",
      "model_module_version": "1.4.0",
      "model_name": "SliderStyleModel",
      "state": {
       "description_width": "initial"
      }
     },
     "4900593154ec46289ce92fa422a87075": {
      "model_module": "@jupyter-widgets/controls",
      "model_module_version": "1.4.0",
      "model_name": "SliderStyleModel",
      "state": {
       "description_width": "initial"
      }
     },
     "4d52147b653841d28165ee8f6ded6c1f": {
      "model_module": "@jupyter-widgets/controls",
      "model_module_version": "1.4.0",
      "model_name": "CheckboxModel",
      "state": {
       "description": "Sum",
       "disabled": false,
       "layout": "IPY_MODEL_fd6da6bb91ff44b2a512de978c9062ab",
       "style": "IPY_MODEL_8b2a02914cc34b589b2a2bfd64c84090",
       "value": false
      }
     },
     "4d98445205074f0b96ae02b83b6be97c": {
      "model_module": "@jupyter-widgets/base",
      "model_module_version": "1.1.0",
      "model_name": "LayoutModel",
      "state": {}
     },
     "4ee7aa6f0e3546eba8b697fde4b45dac": {
      "model_module": "@jupyter-widgets/controls",
      "model_module_version": "1.4.0",
      "model_name": "DescriptionStyleModel",
      "state": {
       "description_width": ""
      }
     },
     "4fa450c21e63454bbb6d97963c7ead37": {
      "model_module": "@jupyter-widgets/controls",
      "model_module_version": "1.4.0",
      "model_name": "IntSliderModel",
      "state": {
       "description": "Number of channels",
       "layout": "IPY_MODEL_a66cab132e2744838c79cfb3ac164824",
       "max": 64,
       "min": 1,
       "style": "IPY_MODEL_523d66e67f764da9abd80c1972a5403d",
       "value": 64
      }
     },
     "516ccb859a5f49028b0a96be24e4142e": {
      "model_module": "@jupyter-widgets/base",
      "model_module_version": "1.1.0",
      "model_name": "LayoutModel",
      "state": {}
     },
     "523d66e67f764da9abd80c1972a5403d": {
      "model_module": "@jupyter-widgets/controls",
      "model_module_version": "1.4.0",
      "model_name": "SliderStyleModel",
      "state": {
       "description_width": "initial"
      }
     },
     "55292baddbc94cf3ad025548bf42c5c7": {
      "model_module": "@jupyter-widgets/base",
      "model_module_version": "1.1.0",
      "model_name": "LayoutModel",
      "state": {}
     },
     "58b96bc632fe4613a414142329da5315": {
      "model_module": "@jupyter-widgets/controls",
      "model_module_version": "1.4.0",
      "model_name": "SliderStyleModel",
      "state": {
       "description_width": "initial"
      }
     },
     "5f814d6a48f246b680007b18a2387c45": {
      "model_module": "@jupyter-widgets/controls",
      "model_module_version": "1.4.0",
      "model_name": "DescriptionStyleModel",
      "state": {
       "description_width": ""
      }
     },
     "62f6202a6e694cbc8d573ba1c7d3db8e": {
      "model_module": "@jupyter-widgets/controls",
      "model_module_version": "1.4.0",
      "model_name": "VBoxModel",
      "state": {
       "_dom_classes": [
        "widget-interact"
       ],
       "children": [
        "IPY_MODEL_dc0a5effeb684f908aad830a2be2eefe",
        "IPY_MODEL_4fa450c21e63454bbb6d97963c7ead37",
        "IPY_MODEL_b080d591d1e849f5b86eda5f3537f1e6",
        "IPY_MODEL_b6f4a0d0198c4841b6707f3090f29e8e",
        "IPY_MODEL_7b4fdd098b874d1297fb3f1ab3111903",
        "IPY_MODEL_9c06e59db9c246459d7cb70b98cf7f60",
        "IPY_MODEL_4d52147b653841d28165ee8f6ded6c1f",
        "IPY_MODEL_24bca9d8307645d19c9e8112a2ff0e0a"
       ],
       "layout": "IPY_MODEL_c13d43d4390b4d55a111082c7865a97d"
      }
     },
     "656a8501de3443a28b46729fd53d80d5": {
      "model_module": "@jupyter-widgets/base",
      "model_module_version": "1.1.0",
      "model_name": "LayoutModel",
      "state": {}
     },
     "6597ff450a7c4ad58855aa2ce19b34dd": {
      "model_module": "@jupyter-widgets/base",
      "model_module_version": "1.1.0",
      "model_name": "LayoutModel",
      "state": {}
     },
     "65b0bdd75e064e7ca3ac1aa016f0251a": {
      "model_module": "@jupyter-widgets/controls",
      "model_module_version": "1.4.0",
      "model_name": "IntSliderModel",
      "state": {
       "description": "Time of observation (s)",
       "layout": "IPY_MODEL_3e9f3322b3334a38bd8b76caf4693d26",
       "max": 36000,
       "min": 1,
       "style": "IPY_MODEL_d49ed066dc0348e18b7a4deb43116195",
       "value": 3600
      }
     },
     "68fbcc6fe68546a0ad7e56b1795fdda7": {
      "model_module": "@jupyter-widgets/controls",
      "model_module_version": "1.4.0",
      "model_name": "CheckboxModel",
      "state": {
       "description": "Sum",
       "disabled": false,
       "layout": "IPY_MODEL_7bfbda8cf13d45e38084796b60262dd0",
       "style": "IPY_MODEL_717264acbde840beaf5e29bd8ca951cd",
       "value": false
      }
     },
     "6b29751c37194c58baf99a3bb6285142": {
      "model_module": "@jupyter-widgets/controls",
      "model_module_version": "1.4.0",
      "model_name": "DescriptionStyleModel",
      "state": {
       "description_width": ""
      }
     },
     "6ce60c4af53a443cb015bbb9bd36eda7": {
      "model_module": "@jupyter-widgets/base",
      "model_module_version": "1.1.0",
      "model_name": "LayoutModel",
      "state": {}
     },
     "6ebf6dfe72f34d31a2c4a27626cc3574": {
      "model_module": "@jupyter-widgets/base",
      "model_module_version": "1.1.0",
      "model_name": "LayoutModel",
      "state": {}
     },
     "6f5a9c895f96450bb5ab94a8a07f3ccc": {
      "model_module": "@jupyter-widgets/base",
      "model_module_version": "1.1.0",
      "model_name": "LayoutModel",
      "state": {}
     },
     "7052aa44269445c689a7f604ee83ff7d": {
      "model_module": "@jupyter-widgets/controls",
      "model_module_version": "1.4.0",
      "model_name": "DescriptionStyleModel",
      "state": {
       "description_width": ""
      }
     },
     "717264acbde840beaf5e29bd8ca951cd": {
      "model_module": "@jupyter-widgets/controls",
      "model_module_version": "1.4.0",
      "model_name": "DescriptionStyleModel",
      "state": {
       "description_width": ""
      }
     },
     "77b9c7a84a1a46b6bdd74584487cd400": {
      "model_module": "@jupyter-widgets/controls",
      "model_module_version": "1.4.0",
      "model_name": "SliderStyleModel",
      "state": {
       "description_width": "initial"
      }
     },
     "77fa813325bf47899cd850792b064859": {
      "model_module": "@jupyter-widgets/controls",
      "model_module_version": "1.4.0",
      "model_name": "FloatSliderModel",
      "state": {
       "description": "Observation band (MHz)",
       "layout": "IPY_MODEL_800150e27174440bafa249764b87b67a",
       "max": 75,
       "min": 1,
       "step": 0.1953125,
       "style": "IPY_MODEL_0e5becc04e4142aea6054e2686156e81",
       "value": 75
      }
     },
     "7b012ff6bffa47f5938484b6ef10410c": {
      "model_module": "@jupyter-widgets/base",
      "model_module_version": "1.1.0",
      "model_name": "LayoutModel",
      "state": {}
     },
     "7b4fdd098b874d1297fb3f1ab3111903": {
      "model_module": "@jupyter-widgets/controls",
      "model_module_version": "1.4.0",
      "model_name": "IntSliderModel",
      "state": {
       "description": "Time of observation (s)",
       "layout": "IPY_MODEL_45a680d3ed8e403b8241feaaf09eae62",
       "max": 36000,
       "min": 1,
       "style": "IPY_MODEL_58b96bc632fe4613a414142329da5315",
       "value": 3600
      }
     },
     "7bfbda8cf13d45e38084796b60262dd0": {
      "model_module": "@jupyter-widgets/base",
      "model_module_version": "1.1.0",
      "model_name": "LayoutModel",
      "state": {}
     },
     "7cc8287520f04970a8cd2da2f1725786": {
      "model_module": "@jupyter-widgets/base",
      "model_module_version": "1.1.0",
      "model_name": "LayoutModel",
      "state": {}
     },
     "7e38a10fadf143fb8c56597dadd59d24": {
      "model_module": "@jupyter-widgets/controls",
      "model_module_version": "1.4.0",
      "model_name": "IntSliderModel",
      "state": {
       "description": "Time integration (s)",
       "layout": "IPY_MODEL_55292baddbc94cf3ad025548bf42c5c7",
       "max": 60,
       "min": 1,
       "style": "IPY_MODEL_447e59acd6b047c7956926e5d0f6e62f",
       "value": 1
      }
     },
     "800150e27174440bafa249764b87b67a": {
      "model_module": "@jupyter-widgets/base",
      "model_module_version": "1.1.0",
      "model_name": "LayoutModel",
      "state": {}
     },
     "81ad27fb68ca45d4856fef2d3db11f14": {
      "model_module": "@jupyter-widgets/controls",
      "model_module_version": "1.4.0",
      "model_name": "IntSliderModel",
      "state": {
       "description": "Number of mini-array",
       "layout": "IPY_MODEL_0d9b7ed3b3524f9290544d7d7493dbef",
       "max": 96,
       "style": "IPY_MODEL_fe2301ae2f9a4303a242fc976493bcad",
       "value": 96
      }
     },
     "82372d450b73491b97f69058f53c08bc": {
      "model_module": "@jupyter-widgets/controls",
      "model_module_version": "1.4.0",
      "model_name": "CheckboxModel",
      "state": {
       "description": "Sum",
       "disabled": false,
       "layout": "IPY_MODEL_7cc8287520f04970a8cd2da2f1725786",
       "style": "IPY_MODEL_7052aa44269445c689a7f604ee83ff7d",
       "value": false
      }
     },
     "82d259e2d916421b92a9d10df26cdf66": {
      "model_module": "@jupyter-widgets/controls",
      "model_module_version": "1.4.0",
      "model_name": "SliderStyleModel",
      "state": {
       "description_width": "initial"
      }
     },
     "82daaf7e514c4fccaf624b787c1d42aa": {
      "model_module": "@jupyter-widgets/controls",
      "model_module_version": "1.4.0",
      "model_name": "DescriptionStyleModel",
      "state": {
       "description_width": ""
      }
     },
     "8358ec18d35e4175abafac681cbbc95e": {
      "model_module": "@jupyter-widgets/controls",
      "model_module_version": "1.4.0",
      "model_name": "DropdownModel",
      "state": {
       "_options_labels": [
        "Imaging",
        "Beamformer",
        "Waveform"
       ],
       "description": "mode",
       "index": 1,
       "layout": "IPY_MODEL_c9a826b300d7458e9db7f16d2ac662de",
       "style": "IPY_MODEL_15df3116670f40a1abeb5f20f7ac54c5"
      }
     },
     "86853b8f0a9e4dbc91438e8241aaaf99": {
      "model_module": "@jupyter-widgets/base",
      "model_module_version": "1.1.0",
      "model_name": "LayoutModel",
      "state": {}
     },
     "873c8296dbab401dbfb56f7573032ddf": {
      "model_module": "@jupyter-widgets/controls",
      "model_module_version": "1.4.0",
      "model_name": "SliderStyleModel",
      "state": {
       "description_width": "initial"
      }
     },
     "88882c84f7c348b3a0d4ee97e9b4c4a8": {
      "model_module": "@jupyter-widgets/controls",
      "model_module_version": "1.4.0",
      "model_name": "IntSliderModel",
      "state": {
       "description": "Number of channels",
       "layout": "IPY_MODEL_a66e49422e3d4d099c752d9d7d7183c7",
       "max": 64,
       "min": 1,
       "style": "IPY_MODEL_4876d6071374461a972d5a16682878a9",
       "value": 64
      }
     },
     "8ace5ad34aa64e9b8ec91aeb60b890b2": {
      "model_module": "@jupyter-widgets/base",
      "model_module_version": "1.1.0",
      "model_name": "LayoutModel",
      "state": {}
     },
     "8ad228cc0ea64a009f9e253bca1c45cf": {
      "model_module": "@jupyter-widgets/controls",
      "model_module_version": "1.4.0",
      "model_name": "DropdownModel",
      "state": {
       "_options_labels": [
        "Imaging",
        "Beamformer",
        "Waveform"
       ],
       "description": "mode",
       "index": 0,
       "layout": "IPY_MODEL_8d61ac0ae6ae4317b05a80ab478ec39d",
       "style": "IPY_MODEL_354a04300898419aa1b64314fcba3366"
      }
     },
     "8b2a02914cc34b589b2a2bfd64c84090": {
      "model_module": "@jupyter-widgets/controls",
      "model_module_version": "1.4.0",
      "model_name": "DescriptionStyleModel",
      "state": {
       "description_width": ""
      }
     },
     "8d61ac0ae6ae4317b05a80ab478ec39d": {
      "model_module": "@jupyter-widgets/base",
      "model_module_version": "1.1.0",
      "model_name": "LayoutModel",
      "state": {}
     },
     "8deb21f71fcb4a5aba97dd62a5b0359a": {
      "model_module": "@jupyter-widgets/controls",
      "model_module_version": "1.4.0",
      "model_name": "CheckboxModel",
      "state": {
       "description": "Sum",
       "disabled": false,
       "layout": "IPY_MODEL_a71f2253c5254b34bedbbcddbc553270",
       "style": "IPY_MODEL_6b29751c37194c58baf99a3bb6285142",
       "value": false
      }
     },
     "91a2412a1add4b88b008da3aca4a626d": {
      "model_module": "@jupyter-widgets/controls",
      "model_module_version": "1.4.0",
      "model_name": "DropdownModel",
      "state": {
       "_options_labels": [
        "Imaging",
        "Beamformer",
        "Waveform"
       ],
       "description": "mode",
       "index": 0,
       "layout": "IPY_MODEL_f5cc4c6facad49a3af3a702d955b693f",
       "style": "IPY_MODEL_0dfb734139b54f1fb3a903991f19547d"
      }
     },
     "923d3bd90d804c7a8ce8a2f6cd765854": {
      "model_module": "@jupyter-widgets/base",
      "model_module_version": "1.1.0",
      "model_name": "LayoutModel",
      "state": {}
     },
     "92e1ee31fc714211904932e7afcd089e": {
      "model_module": "@jupyter-widgets/controls",
      "model_module_version": "1.4.0",
      "model_name": "SliderStyleModel",
      "state": {
       "description_width": "initial"
      }
     },
     "92fc4a4d88114e238d9731e472b0b4d9": {
      "model_module": "@jupyter-widgets/base",
      "model_module_version": "1.1.0",
      "model_name": "LayoutModel",
      "state": {}
     },
     "9330101ea64f4464b9a13d0c0de7686a": {
      "model_module": "@jupyter-widgets/controls",
      "model_module_version": "1.4.0",
      "model_name": "IntSliderModel",
      "state": {
       "description": "Number of mini-array",
       "layout": "IPY_MODEL_baf6a21a1b8c4998af395e5cc76cdf3a",
       "max": 96,
       "style": "IPY_MODEL_77b9c7a84a1a46b6bdd74584487cd400",
       "value": 96
      }
     },
     "96f42187817448ee8944744a232e1379": {
      "model_module": "@jupyter-widgets/controls",
      "model_module_version": "1.4.0",
      "model_name": "IntSliderModel",
      "state": {
       "description": "Time integration (s)",
       "layout": "IPY_MODEL_aa626175902340fa92fe5ad263c4cd0b",
       "max": 60,
       "min": 1,
       "style": "IPY_MODEL_ac5ccb7be666412b9ef75d29a3c76021",
       "value": 1
      }
     },
     "97cd7607ee5c4d698fd1510139667d60": {
      "model_module": "@jupyter-widgets/controls",
      "model_module_version": "1.4.0",
      "model_name": "SliderStyleModel",
      "state": {
       "description_width": "initial"
      }
     },
     "9a3fae2ce393407ca06a217d07a92cda": {
      "model_module": "@jupyter-widgets/controls",
      "model_module_version": "1.4.0",
      "model_name": "IntSliderModel",
      "state": {
       "description": "Time integration (s)",
       "layout": "IPY_MODEL_edd384be73a143f78ea78d3c0f73f8e7",
       "max": 60,
       "min": 1,
       "style": "IPY_MODEL_f06b7ec4ec7348bb95636f532d5fba83",
       "value": 1
      }
     },
     "9b55b5daea454578916d1248d5d36b12": {
      "model_module": "@jupyter-widgets/controls",
      "model_module_version": "1.4.0",
      "model_name": "SliderStyleModel",
      "state": {
       "description_width": "initial"
      }
     },
     "9c06e59db9c246459d7cb70b98cf7f60": {
      "model_module": "@jupyter-widgets/controls",
      "model_module_version": "1.4.0",
      "model_name": "DropdownModel",
      "state": {
       "_options_labels": [
        "Imaging",
        "Beamformer",
        "Waveform"
       ],
       "description": "mode",
       "index": 1,
       "layout": "IPY_MODEL_350e2d416fc243518639564462f56c0e",
       "style": "IPY_MODEL_4ee7aa6f0e3546eba8b697fde4b45dac"
      }
     },
     "a579691d85654b6b857e6c402ab0283e": {
      "model_module": "@jupyter-widgets/output",
      "model_module_version": "1.0.0",
      "model_name": "OutputModel",
      "state": {
       "layout": "IPY_MODEL_291f8e14a1c94b36affa82480b2b4ca5",
       "outputs": [
        {
         "name": "stdout",
         "output_type": "stream",
         "text": "Rate=       9.1 MB/s/SB\nRate=       3.4 GB/s\nRate=     873.0 MB/s/node\nVolume=      12.0  TB in     3600 sec\n"
        }
       ]
      }
     },
     "a66cab132e2744838c79cfb3ac164824": {
      "model_module": "@jupyter-widgets/base",
      "model_module_version": "1.1.0",
      "model_name": "LayoutModel",
      "state": {}
     },
     "a66e49422e3d4d099c752d9d7d7183c7": {
      "model_module": "@jupyter-widgets/base",
      "model_module_version": "1.1.0",
      "model_name": "LayoutModel",
      "state": {}
     },
     "a6d9a68c5b4b49d9a7330b3821672cd8": {
      "model_module": "@jupyter-widgets/controls",
      "model_module_version": "1.4.0",
      "model_name": "IntSliderModel",
      "state": {
       "description": "Number of mini-array",
       "layout": "IPY_MODEL_b603f11fea4345a1994376a8b093b926",
       "max": 96,
       "style": "IPY_MODEL_92e1ee31fc714211904932e7afcd089e",
       "value": 57
      }
     },
     "a71f2253c5254b34bedbbcddbc553270": {
      "model_module": "@jupyter-widgets/base",
      "model_module_version": "1.1.0",
      "model_name": "LayoutModel",
      "state": {}
     },
     "a7b25e1102d24a27a3303646222e3d92": {
      "model_module": "@jupyter-widgets/controls",
      "model_module_version": "1.4.0",
      "model_name": "DescriptionStyleModel",
      "state": {
       "description_width": ""
      }
     },
     "aa18e04092234e778809fbf78aebf873": {
      "model_module": "@jupyter-widgets/controls",
      "model_module_version": "1.4.0",
      "model_name": "SliderStyleModel",
      "state": {
       "description_width": "initial"
      }
     },
     "aa626175902340fa92fe5ad263c4cd0b": {
      "model_module": "@jupyter-widgets/base",
      "model_module_version": "1.1.0",
      "model_name": "LayoutModel",
      "state": {}
     },
     "aa70b2f00d654b65b67d55db57838d2e": {
      "model_module": "@jupyter-widgets/controls",
      "model_module_version": "1.4.0",
      "model_name": "IntSliderModel",
      "state": {
       "description": "Number of channels",
       "layout": "IPY_MODEL_92fc4a4d88114e238d9731e472b0b4d9",
       "max": 64,
       "min": 1,
       "style": "IPY_MODEL_0a791973748d4f7fbd19ea306320a5d3",
       "value": 64
      }
     },
     "ac4ea6120d764fa4beac583f5b5c9b11": {
      "model_module": "@jupyter-widgets/controls",
      "model_module_version": "1.4.0",
      "model_name": "VBoxModel",
      "state": {
       "_dom_classes": [
        "widget-interact"
       ],
       "children": [
        "IPY_MODEL_81ad27fb68ca45d4856fef2d3db11f14",
        "IPY_MODEL_88882c84f7c348b3a0d4ee97e9b4c4a8",
        "IPY_MODEL_30db19c2c2704745accf95971217c827",
        "IPY_MODEL_0dbc0e1e524e4f69a0368bfaa6e66de1",
        "IPY_MODEL_c891482d32044c8085d8a0287b458d54",
        "IPY_MODEL_8358ec18d35e4175abafac681cbbc95e",
        "IPY_MODEL_29ba66f0b9644d949ab05c7a33e66d18",
        "IPY_MODEL_f9beb3c532dd42e48df11a47baa4fd31"
       ],
       "layout": "IPY_MODEL_471c48613c5943dd8f8c46d5fc359345"
      }
     },
     "ac5ccb7be666412b9ef75d29a3c76021": {
      "model_module": "@jupyter-widgets/controls",
      "model_module_version": "1.4.0",
      "model_name": "SliderStyleModel",
      "state": {
       "description_width": "initial"
      }
     },
     "ae8373b77b7d4707aacf188f559d5f7f": {
      "model_module": "@jupyter-widgets/controls",
      "model_module_version": "1.4.0",
      "model_name": "FloatSliderModel",
      "state": {
       "description": "Observation band (MHz)",
       "layout": "IPY_MODEL_468dedd8c81b459fa516a6bddd900551",
       "max": 75,
       "min": 1,
       "step": 0.1953125,
       "style": "IPY_MODEL_9b55b5daea454578916d1248d5d36b12",
       "value": 75
      }
     },
     "b080d591d1e849f5b86eda5f3537f1e6": {
      "model_module": "@jupyter-widgets/controls",
      "model_module_version": "1.4.0",
      "model_name": "IntSliderModel",
      "state": {
       "description": "Time integration (s)",
       "layout": "IPY_MODEL_d1858655db1a45dfbb21e379d73a1961",
       "max": 60,
       "min": 1,
       "style": "IPY_MODEL_eb6d1b01ac9440e79cfade035ce23c04",
       "value": 1
      }
     },
     "b1ac52a5e6d748c0ae6aab563430a5fb": {
      "model_module": "@jupyter-widgets/controls",
      "model_module_version": "1.4.0",
      "model_name": "IntSliderModel",
      "state": {
       "description": "Number of channels",
       "layout": "IPY_MODEL_6ce60c4af53a443cb015bbb9bd36eda7",
       "max": 64,
       "min": 1,
       "style": "IPY_MODEL_da1e90de897640edbaa6304bf5fb53bc",
       "value": 64
      }
     },
     "b2729efe3e7e4c22b4511f1a415b17b0": {
      "model_module": "@jupyter-widgets/controls",
      "model_module_version": "1.4.0",
      "model_name": "IntSliderModel",
      "state": {
       "description": "Number of Mini-arrays",
       "layout": "IPY_MODEL_c57347e2dfbe422f87aacd9503eecb16",
       "max": 96,
       "style": "IPY_MODEL_e937c3d1faf94b9cb467dad6e86501c8",
       "value": 96
      }
     },
     "b603f11fea4345a1994376a8b093b926": {
      "model_module": "@jupyter-widgets/base",
      "model_module_version": "1.1.0",
      "model_name": "LayoutModel",
      "state": {}
     },
     "b6f4a0d0198c4841b6707f3090f29e8e": {
      "model_module": "@jupyter-widgets/controls",
      "model_module_version": "1.4.0",
      "model_name": "FloatSliderModel",
      "state": {
       "description": "Observation band (MHz)",
       "layout": "IPY_MODEL_cbe57ef5ea3b44fd934bd60ef68aad1f",
       "max": 75,
       "min": 1,
       "step": 0.1953125,
       "style": "IPY_MODEL_97cd7607ee5c4d698fd1510139667d60",
       "value": 75
      }
     },
     "baf6a21a1b8c4998af395e5cc76cdf3a": {
      "model_module": "@jupyter-widgets/base",
      "model_module_version": "1.1.0",
      "model_name": "LayoutModel",
      "state": {}
     },
     "c1044d2c3b774eaab8f7fab3ba8ad38d": {
      "model_module": "@jupyter-widgets/base",
      "model_module_version": "1.1.0",
      "model_name": "LayoutModel",
      "state": {}
     },
     "c13d43d4390b4d55a111082c7865a97d": {
      "model_module": "@jupyter-widgets/base",
      "model_module_version": "1.1.0",
      "model_name": "LayoutModel",
      "state": {}
     },
     "c20e8c901d2b4536b05335743eb45c1f": {
      "model_module": "@jupyter-widgets/controls",
      "model_module_version": "1.4.0",
      "model_name": "SliderStyleModel",
      "state": {
       "description_width": "initial"
      }
     },
     "c57347e2dfbe422f87aacd9503eecb16": {
      "model_module": "@jupyter-widgets/base",
      "model_module_version": "1.1.0",
      "model_name": "LayoutModel",
      "state": {}
     },
     "c719f3ba892b4505979659577f2610e4": {
      "model_module": "@jupyter-widgets/controls",
      "model_module_version": "1.4.0",
      "model_name": "IntSliderModel",
      "state": {
       "description": "Number of mini-array",
       "layout": "IPY_MODEL_923d3bd90d804c7a8ce8a2f6cd765854",
       "max": 96,
       "style": "IPY_MODEL_aa18e04092234e778809fbf78aebf873",
       "value": 96
      }
     },
     "c891482d32044c8085d8a0287b458d54": {
      "model_module": "@jupyter-widgets/controls",
      "model_module_version": "1.4.0",
      "model_name": "IntSliderModel",
      "state": {
       "description": "Time of observation (s)",
       "layout": "IPY_MODEL_0e828543331f4ac08c715b01bb3d8da4",
       "max": 36000,
       "min": 1,
       "style": "IPY_MODEL_e573e9df55d24246ac49bbcbf292bc11",
       "value": 3600
      }
     },
     "c9a826b300d7458e9db7f16d2ac662de": {
      "model_module": "@jupyter-widgets/base",
      "model_module_version": "1.1.0",
      "model_name": "LayoutModel",
      "state": {}
     },
     "cbe57ef5ea3b44fd934bd60ef68aad1f": {
      "model_module": "@jupyter-widgets/base",
      "model_module_version": "1.1.0",
      "model_name": "LayoutModel",
      "state": {}
     },
     "cd0b09d60f924319b4a2b01e456eeee8": {
      "model_module": "@jupyter-widgets/base",
      "model_module_version": "1.1.0",
      "model_name": "LayoutModel",
      "state": {}
     },
     "cee49fae88404e4f9809ddc8e16ea085": {
      "model_module": "@jupyter-widgets/base",
      "model_module_version": "1.1.0",
      "model_name": "LayoutModel",
      "state": {}
     },
     "d1858655db1a45dfbb21e379d73a1961": {
      "model_module": "@jupyter-widgets/base",
      "model_module_version": "1.1.0",
      "model_name": "LayoutModel",
      "state": {}
     },
     "d24249716ee642ab8b4859b3b4fe9a14": {
      "model_module": "@jupyter-widgets/controls",
      "model_module_version": "1.4.0",
      "model_name": "SliderStyleModel",
      "state": {
       "description_width": "initial"
      }
     },
     "d49ed066dc0348e18b7a4deb43116195": {
      "model_module": "@jupyter-widgets/controls",
      "model_module_version": "1.4.0",
      "model_name": "SliderStyleModel",
      "state": {
       "description_width": "initial"
      }
     },
     "d8d32a4b11e64114b67b7d2e99cee630": {
      "model_module": "@jupyter-widgets/output",
      "model_module_version": "1.0.0",
      "model_name": "OutputModel",
      "state": {
       "layout": "IPY_MODEL_cee49fae88404e4f9809ddc8e16ea085",
       "outputs": [
        {
         "name": "stdout",
         "output_type": "stream",
         "text": "Rate=       3.2 MB/s/SB\nRate=       1.2 GB/s\nRate=     305.1 MB/s/node\nVolume=       4.2  TB in     3600 sec\n"
        }
       ]
      }
     },
     "d8e05ea3e34b42e186a6bcd6318ffce5": {
      "model_module": "@jupyter-widgets/base",
      "model_module_version": "1.1.0",
      "model_name": "LayoutModel",
      "state": {}
     },
     "da05a1c1e6f34c5d849dd696d32a58af": {
      "model_module": "@jupyter-widgets/base",
      "model_module_version": "1.1.0",
      "model_name": "LayoutModel",
      "state": {}
     },
     "da1de42c9b304f318adc6389c136649f": {
      "model_module": "@jupyter-widgets/controls",
      "model_module_version": "1.4.0",
      "model_name": "SliderStyleModel",
      "state": {
       "description_width": "initial"
      }
     },
     "da1e90de897640edbaa6304bf5fb53bc": {
      "model_module": "@jupyter-widgets/controls",
      "model_module_version": "1.4.0",
      "model_name": "SliderStyleModel",
      "state": {
       "description_width": "initial"
      }
     },
     "dc0a5effeb684f908aad830a2be2eefe": {
      "model_module": "@jupyter-widgets/controls",
      "model_module_version": "1.4.0",
      "model_name": "IntSliderModel",
      "state": {
       "description": "Number of mini-array",
       "layout": "IPY_MODEL_0115db9ebd374070b6661c1789f54877",
       "max": 96,
       "style": "IPY_MODEL_21bad10ff5184ae7a41645ed7303851a",
       "value": 96
      }
     },
     "e412153647ac45deb4dd66b84ba7e033": {
      "model_module": "@jupyter-widgets/controls",
      "model_module_version": "1.4.0",
      "model_name": "FloatSliderModel",
      "state": {
       "description": "Observation band (MHz)",
       "layout": "IPY_MODEL_516ccb859a5f49028b0a96be24e4142e",
       "max": 75,
       "min": 1,
       "step": 0.1953125,
       "style": "IPY_MODEL_0e40b72c1924445ab07c3d7ad95de87e",
       "value": 75
      }
     },
     "e439892a887a4d6c9511c5463c12bfcd": {
      "model_module": "@jupyter-widgets/controls",
      "model_module_version": "1.4.0",
      "model_name": "SliderStyleModel",
      "state": {
       "description_width": "initial"
      }
     },
     "e573e9df55d24246ac49bbcbf292bc11": {
      "model_module": "@jupyter-widgets/controls",
      "model_module_version": "1.4.0",
      "model_name": "SliderStyleModel",
      "state": {
       "description_width": "initial"
      }
     },
     "e6de9707717047879b054d0698d4feb7": {
      "model_module": "@jupyter-widgets/output",
      "model_module_version": "1.0.0",
      "model_name": "OutputModel",
      "state": {
       "layout": "IPY_MODEL_cd0b09d60f924319b4a2b01e456eeee8",
       "outputs": [
        {
         "name": "stdout",
         "output_type": "stream",
         "text": "Rate=       1.0 KB/s/SB\nRate=     384.0 KB/s\nRate=     192.0 KB/s/node\nVolume=       1.3  GB in     3600 sec\n"
        }
       ]
      }
     },
     "e937c3d1faf94b9cb467dad6e86501c8": {
      "model_module": "@jupyter-widgets/controls",
      "model_module_version": "1.4.0",
      "model_name": "SliderStyleModel",
      "state": {
       "description_width": "initial"
      }
     },
     "e9bb0e52654d4287b667e6ad0a074cee": {
      "model_module": "@jupyter-widgets/base",
      "model_module_version": "1.1.0",
      "model_name": "LayoutModel",
      "state": {}
     },
     "e9bf8d23aed74cde87715c8a12892332": {
      "model_module": "@jupyter-widgets/controls",
      "model_module_version": "1.4.0",
      "model_name": "IntSliderModel",
      "state": {
       "description": "Total observation time (s)",
       "layout": "IPY_MODEL_44f6ba742a7c4d24a61a9c12e81f5743",
       "max": 36000,
       "min": 1,
       "style": "IPY_MODEL_e439892a887a4d6c9511c5463c12bfcd",
       "value": 3600
      }
     },
     "eb6d1b01ac9440e79cfade035ce23c04": {
      "model_module": "@jupyter-widgets/controls",
      "model_module_version": "1.4.0",
      "model_name": "SliderStyleModel",
      "state": {
       "description_width": "initial"
      }
     },
     "ec7eaa5c895346a5a8f115174666325d": {
      "model_module": "@jupyter-widgets/controls",
      "model_module_version": "1.4.0",
      "model_name": "IntSliderModel",
      "state": {
       "description": "Number of channels",
       "layout": "IPY_MODEL_86853b8f0a9e4dbc91438e8241aaaf99",
       "max": 64,
       "min": 1,
       "style": "IPY_MODEL_873c8296dbab401dbfb56f7573032ddf",
       "value": 64
      }
     },
     "edd384be73a143f78ea78d3c0f73f8e7": {
      "model_module": "@jupyter-widgets/base",
      "model_module_version": "1.1.0",
      "model_name": "LayoutModel",
      "state": {}
     },
     "f06b7ec4ec7348bb95636f532d5fba83": {
      "model_module": "@jupyter-widgets/controls",
      "model_module_version": "1.4.0",
      "model_name": "SliderStyleModel",
      "state": {
       "description_width": "initial"
      }
     },
     "f0b3a0dc4de14594b4c2d8a1826ce6d2": {
      "model_module": "@jupyter-widgets/controls",
      "model_module_version": "1.4.0",
      "model_name": "VBoxModel",
      "state": {
       "_dom_classes": [
        "widget-interact"
       ],
       "children": [
        "IPY_MODEL_c719f3ba892b4505979659577f2610e4",
        "IPY_MODEL_b1ac52a5e6d748c0ae6aab563430a5fb",
        "IPY_MODEL_96f42187817448ee8944744a232e1379",
        "IPY_MODEL_e412153647ac45deb4dd66b84ba7e033",
        "IPY_MODEL_421caabca9d64328baef1740d85f085b",
        "IPY_MODEL_91a2412a1add4b88b008da3aca4a626d",
        "IPY_MODEL_82372d450b73491b97f69058f53c08bc",
        "IPY_MODEL_a579691d85654b6b857e6c402ab0283e"
       ],
       "layout": "IPY_MODEL_1f235c0a7d2742ac888f3d356e53093e"
      }
     },
     "f2627e1dd8e4449e8e39de0be8285b7d": {
      "model_module": "@jupyter-widgets/base",
      "model_module_version": "1.1.0",
      "model_name": "LayoutModel",
      "state": {}
     },
     "f355f3a54c4d46e3ad44d2ce1afe03d5": {
      "model_module": "@jupyter-widgets/output",
      "model_module_version": "1.0.0",
      "model_name": "OutputModel",
      "state": {
       "layout": "IPY_MODEL_656a8501de3443a28b46729fd53d80d5",
       "outputs": [
        {
         "name": "stdout",
         "output_type": "stream",
         "text": "Rate=       9.1 MB/s/SB\nRate=       3.4 GB/s\nRate=     873.0 MB/s/node\nVolume=      12.0  TB in     3600 sec\n"
        }
       ]
      }
     },
     "f5cc4c6facad49a3af3a702d955b693f": {
      "model_module": "@jupyter-widgets/base",
      "model_module_version": "1.1.0",
      "model_name": "LayoutModel",
      "state": {}
     },
     "f9beb3c532dd42e48df11a47baa4fd31": {
      "model_module": "@jupyter-widgets/output",
      "model_module_version": "1.0.0",
      "model_name": "OutputModel",
      "state": {
       "layout": "IPY_MODEL_1a30db8c9cc041daab1a506ba36a64b3",
       "outputs": [
        {
         "name": "stdout",
         "output_type": "stream",
         "text": "Rate=       1.0 KB/s/SB\nRate=     384.0 KB/s\nRate=     192.0 KB/s/node\nVolume=       1.3  GB in     3600 sec\n"
        }
       ]
      }
     },
     "fd6da6bb91ff44b2a512de978c9062ab": {
      "model_module": "@jupyter-widgets/base",
      "model_module_version": "1.1.0",
      "model_name": "LayoutModel",
      "state": {}
     },
     "fdc33a1162ed48e283923a453a418372": {
      "model_module": "@jupyter-widgets/controls",
      "model_module_version": "1.4.0",
      "model_name": "IntSliderModel",
      "state": {
       "description": "Time integration (s)",
       "layout": "IPY_MODEL_39b90e04465c497c8c45e1bb16f3f7a7",
       "max": 60,
       "min": 1,
       "style": "IPY_MODEL_1ebec3ce0df34bfb89793e9df192fb54",
       "value": 1
      }
     },
     "fe2301ae2f9a4303a242fc976493bcad": {
      "model_module": "@jupyter-widgets/controls",
      "model_module_version": "1.4.0",
      "model_name": "SliderStyleModel",
      "state": {
       "description_width": "initial"
      }
     }
    },
    "version_major": 2,
    "version_minor": 0
   }
  }
 },
 "nbformat": 4,
 "nbformat_minor": 2
}
